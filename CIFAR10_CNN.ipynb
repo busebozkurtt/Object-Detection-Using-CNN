{
  "nbformat": 4,
  "nbformat_minor": 0,
  "metadata": {
    "colab": {
      "name": "CIFAR10_CNN",
      "provenance": [],
      "collapsed_sections": []
    },
    "kernelspec": {
      "name": "python3",
      "display_name": "Python 3"
    },
    "accelerator": "GPU"
  },
  "cells": [
    {
      "cell_type": "code",
      "metadata": {
        "id": "vvEeJf1evS5v"
      },
      "source": [
        "import numpy as np\n",
        "import pandas as pd \n",
        "import seaborn as sns\n",
        "import matplotlib.pyplot as plt\n",
        "import warnings \n",
        "import keras\n",
        "import tensorflow as tf\n",
        "warnings.filterwarnings('ignore')\n",
        "from tensorflow.keras import regularizers\n",
        "from sklearn.metrics import confusion_matrix\n",
        "from keras.datasets import cifar10\n",
        "from sklearn.model_selection import train_test_split\n",
        "from keras.models import Sequential\n",
        "from keras.layers import Dense, Dropout, Flatten, Conv2D, MaxPool2D,BatchNormalization,AveragePooling2D\n",
        "from keras.optimizers import RMSprop, Adam\n",
        "from keras.utils.np_utils import to_categorical\n",
        "from keras.preprocessing.image import ImageDataGenerator"
      ],
      "execution_count": null,
      "outputs": []
    },
    {
      "cell_type": "code",
      "metadata": {
        "id": "zHg_lTUnOtXV"
      },
      "source": [
        "# Result Print Function\n",
        "def result_print (model):\n",
        "  results = []\n",
        "  scoreTrain = model.evaluate(x_train, y_train, verbose=1)\n",
        "  print(\"Train loss: {} - Train accuracy: {}\".format(scoreTrain[0], scoreTrain[1]))\n",
        "  results.append(scoreTrain[1])\n",
        "  print()\n",
        "  scoreVal = model.evaluate(x_val, y_val, verbose=1)\n",
        "  print(\"Validation loss: {} - Validation accuracy: {}\".format(scoreVal[0],scoreVal[1]))\n",
        "  print()\n",
        "  scoreTest = model.evaluate(x_test, y_test, verbose=1)\n",
        "  print(\"Test loss: {} - Test accuracy: {}\".format(scoreTest[0],scoreTest[1]))\n",
        "  results.append(scoreTest[1])\n",
        "  return results"
      ],
      "execution_count": null,
      "outputs": []
    },
    {
      "cell_type": "code",
      "metadata": {
        "id": "R8VaqEdzRy6v"
      },
      "source": [
        "# Plot Accuracy Function\n",
        "def plot (history_model):\n",
        "  plt.plot(history_model.history['accuracy'], label='train')\n",
        "  plt.plot(history_model.history['val_accuracy'], label='test')\n",
        "  plt.title(\"Accuray Changes\")\n",
        "  plt.xlabel(\"Epochs\")\n",
        "  plt.ylabel(\"Acc\")\n",
        "  plt.legend()\n",
        "  plt.show()"
      ],
      "execution_count": null,
      "outputs": []
    },
    {
      "cell_type": "code",
      "metadata": {
        "id": "so-f8kk-W4du"
      },
      "source": [
        "model_names = ['Without Augmentation/BatchNormalization/Dropout','Without Dropout/BatchNormalization',\n",
        "              'Without Dropout and with BatchNormalization','With Dropout-BatchNormalization',\n",
        "              'Less Pooling Layer','Extra Hidden Layer']\n",
        "accTest=[]\n",
        "accTrain=[]\n",
        "d ={}"
      ],
      "execution_count": null,
      "outputs": []
    },
    {
      "cell_type": "markdown",
      "metadata": {
        "id": "W9GnqtY5j5EH"
      },
      "source": [
        "# Preprocess"
      ]
    },
    {
      "cell_type": "code",
      "metadata": {
        "id": "ltS-THSVvXBU",
        "colab": {
          "base_uri": "https://localhost:8080/"
        },
        "outputId": "4fabed37-5ad6-48d4-effc-fb6159f06a7f"
      },
      "source": [
        "# Preparing Dataset\n",
        "(x_train,y_train), (x_test, y_test) =cifar10.load_data()\n",
        "print('Train samples', x_train.shape[0])\n",
        "print('Test samples', x_test.shape[0])\n",
        "y_train=to_categorical(y_train,num_classes=10)\n",
        "y_test = to_categorical(y_test, num_classes=10)"
      ],
      "execution_count": null,
      "outputs": [
        {
          "output_type": "stream",
          "text": [
            "Train samples 50000\n",
            "Test samples 10000\n"
          ],
          "name": "stdout"
        }
      ]
    },
    {
      "cell_type": "code",
      "metadata": {
        "id": "wHkLMPGlrw8D"
      },
      "source": [
        "## Normalization\n",
        "x_train=x_train.astype('float32')\n",
        "x_test=x_test.astype('float32')\n",
        "x_train = x_train/255\n",
        "x_test=x_test/255"
      ],
      "execution_count": null,
      "outputs": []
    },
    {
      "cell_type": "code",
      "metadata": {
        "id": "0nljGEfdr06Y",
        "colab": {
          "base_uri": "https://localhost:8080/"
        },
        "outputId": "6c7f6c2a-0443-40fe-b4cd-d3323bd14e02"
      },
      "source": [
        "## Train Validation Split and Augmentation\n",
        "x_train, x_val, y_train, y_val = train_test_split(x_train,y_train, test_size=0.1)\n",
        "print('Train samples with split', x_train.shape)\n",
        "print('Validation samples with split', x_val.shape)"
      ],
      "execution_count": null,
      "outputs": [
        {
          "output_type": "stream",
          "text": [
            "Train samples with split (45000, 32, 32, 3)\n",
            "Validation samples with split (5000, 32, 32, 3)\n"
          ],
          "name": "stdout"
        }
      ]
    },
    {
      "cell_type": "code",
      "metadata": {
        "id": "SeK5iVnNr2-D",
        "colab": {
          "base_uri": "https://localhost:8080/",
          "height": 248
        },
        "outputId": "1a57818e-2b98-49a4-8722-9687c44a4d3d"
      },
      "source": [
        "## One Picture\n",
        "img = x_train[7]\n",
        "plt.imshow(img)\n",
        "plt.axis(\"off\")\n",
        "plt.show()"
      ],
      "execution_count": null,
      "outputs": [
        {
          "output_type": "display_data",
          "data": {
            "image/png": "[encoded data removed]",
            "text/plain": [
              "<Figure size 432x288 with 1 Axes>"
            ]
          },
          "metadata": {
            "tags": [],
            "needs_background": "light"
          }
        }
      ]
    },
    {
      "cell_type": "code",
      "metadata": {
        "id": "21l-vFarxAmC"
      },
      "source": [
        "# Early Stopping\n",
        "callback = keras.callbacks.EarlyStopping(monitor='val_accuracy', patience=8, verbose=1)"
      ],
      "execution_count": null,
      "outputs": []
    },
    {
      "cell_type": "markdown",
      "metadata": {
        "id": "V-xnsguFZOwu"
      },
      "source": [
        "\n",
        "\n",
        "\n",
        "\n",
        "# Without Augmentation, Without BatchNormalization and Without Dropout\n"
      ]
    },
    {
      "cell_type": "code",
      "metadata": {
        "id": "rTYD5ItWZeVF",
        "colab": {
          "base_uri": "https://localhost:8080/"
        },
        "outputId": "d9a1b822-5354-4bb2-c846-935c0b15071e"
      },
      "source": [
        "batch_size= 128\n",
        "epochs=100\n",
        "num_classes =10\n",
        "model_1 = Sequential()\n",
        "model_1.add(Conv2D(filters = 32, kernel_size = (3,3),padding='Same',activation ='relu', input_shape = x_train.shape[1:]))\n",
        "model_1.add(Conv2D(filters = 64, kernel_size = (3,3),padding='Same',activation ='relu'))\n",
        "model_1.add(AveragePooling2D(pool_size=(2,2)))\n",
        "model_1.add(Conv2D(filters = 64, kernel_size = (3,3),padding='Same',activation ='relu'))\n",
        "model_1.add(AveragePooling2D(pool_size=(2,2)))\n",
        "model_1.add(Conv2D(filters = 128, kernel_size = (3,3), activation ='relu',padding='Same'))\n",
        "model_1.add(Conv2D(filters = 256, kernel_size = (3,3), activation ='relu', padding='Same'))\n",
        "model_1.add(AveragePooling2D(pool_size=(2,2)))\n",
        "model_1.add(Flatten())\n",
        "model_1.add(Dense(512,activation='relu'))\n",
        "model_1.add(Dense(num_classes,activation='softmax'))\n",
        "model_1.summary()"
      ],
      "execution_count": null,
      "outputs": [
        {
          "output_type": "stream",
          "text": [
            "Model: \"sequential_2\"\n",
            "_________________________________________________________________\n",
            "Layer (type)                 Output Shape              Param #   \n",
            "=================================================================\n",
            "conv2d_10 (Conv2D)           (None, 32, 32, 32)        896       \n",
            "_________________________________________________________________\n",
            "conv2d_11 (Conv2D)           (None, 32, 32, 64)        18496     \n",
            "_________________________________________________________________\n",
            "average_pooling2d_6 (Average (None, 16, 16, 64)        0         \n",
            "_________________________________________________________________\n",
            "conv2d_12 (Conv2D)           (None, 16, 16, 64)        36928     \n",
            "_________________________________________________________________\n",
            "average_pooling2d_7 (Average (None, 8, 8, 64)          0         \n",
            "_________________________________________________________________\n",
            "conv2d_13 (Conv2D)           (None, 8, 8, 128)         73856     \n",
            "_________________________________________________________________\n",
            "conv2d_14 (Conv2D)           (None, 8, 8, 256)         295168    \n",
            "_________________________________________________________________\n",
            "average_pooling2d_8 (Average (None, 4, 4, 256)         0         \n",
            "_________________________________________________________________\n",
            "flatten_2 (Flatten)          (None, 4096)              0         \n",
            "_________________________________________________________________\n",
            "dense_4 (Dense)              (None, 512)               2097664   \n",
            "_________________________________________________________________\n",
            "dense_5 (Dense)              (None, 10)                5130      \n",
            "=================================================================\n",
            "Total params: 2,528,138\n",
            "Trainable params: 2,528,138\n",
            "Non-trainable params: 0\n",
            "_________________________________________________________________\n"
          ],
          "name": "stdout"
        }
      ]
    },
    {
      "cell_type": "code",
      "metadata": {
        "id": "NVLyRLEnZnT1"
      },
      "source": [
        "model_1.compile(loss='categorical_crossentropy',optimizer=Adam(),metrics=['accuracy'])"
      ],
      "execution_count": null,
      "outputs": []
    },
    {
      "cell_type": "code",
      "metadata": {
        "id": "p8Rl17iPZrkb",
        "colab": {
          "base_uri": "https://localhost:8080/"
        },
        "outputId": "89ae717a-47cb-4af9-ffd7-cb03c8455759"
      },
      "source": [
        "history_1=model_1.fit(x_train, y_train, batch_size=batch_size,epochs=epochs,validation_data=(x_val,y_val),callbacks=[callback])"
      ],
      "execution_count": null,
      "outputs": [
        {
          "output_type": "stream",
          "text": [
            "Epoch 1/100\n",
            "352/352 [==============================] - 6s 16ms/step - loss: 1.8198 - accuracy: 0.3209 - val_loss: 1.2924 - val_accuracy: 0.5390\n",
            "Epoch 2/100\n",
            "352/352 [==============================] - 5s 15ms/step - loss: 1.1890 - accuracy: 0.5759 - val_loss: 0.9745 - val_accuracy: 0.6626\n",
            "Epoch 3/100\n",
            "352/352 [==============================] - 5s 15ms/step - loss: 0.9005 - accuracy: 0.6826 - val_loss: 0.7851 - val_accuracy: 0.7256\n",
            "Epoch 4/100\n",
            "352/352 [==============================] - 5s 15ms/step - loss: 0.7304 - accuracy: 0.7449 - val_loss: 0.7661 - val_accuracy: 0.7306\n",
            "Epoch 5/100\n",
            "352/352 [==============================] - 5s 15ms/step - loss: 0.6230 - accuracy: 0.7815 - val_loss: 0.6763 - val_accuracy: 0.7674\n",
            "Epoch 6/100\n",
            "352/352 [==============================] - 5s 16ms/step - loss: 0.5276 - accuracy: 0.8162 - val_loss: 0.6365 - val_accuracy: 0.7832\n",
            "Epoch 7/100\n",
            "352/352 [==============================] - 5s 16ms/step - loss: 0.4190 - accuracy: 0.8545 - val_loss: 0.6287 - val_accuracy: 0.7874\n",
            "Epoch 8/100\n",
            "352/352 [==============================] - 5s 15ms/step - loss: 0.3422 - accuracy: 0.8811 - val_loss: 0.6834 - val_accuracy: 0.7802\n",
            "Epoch 9/100\n",
            "352/352 [==============================] - 5s 15ms/step - loss: 0.2622 - accuracy: 0.9096 - val_loss: 0.6734 - val_accuracy: 0.7982\n",
            "Epoch 10/100\n",
            "352/352 [==============================] - 5s 15ms/step - loss: 0.1798 - accuracy: 0.9379 - val_loss: 0.7735 - val_accuracy: 0.7944\n",
            "Epoch 11/100\n",
            "352/352 [==============================] - 5s 15ms/step - loss: 0.1384 - accuracy: 0.9526 - val_loss: 0.7997 - val_accuracy: 0.7832\n",
            "Epoch 12/100\n",
            "352/352 [==============================] - 5s 15ms/step - loss: 0.0982 - accuracy: 0.9662 - val_loss: 0.8871 - val_accuracy: 0.7782\n",
            "Epoch 13/100\n",
            "352/352 [==============================] - 5s 15ms/step - loss: 0.0794 - accuracy: 0.9734 - val_loss: 1.0748 - val_accuracy: 0.7852\n",
            "Epoch 14/100\n",
            "352/352 [==============================] - 5s 15ms/step - loss: 0.0765 - accuracy: 0.9737 - val_loss: 1.0677 - val_accuracy: 0.7792\n",
            "Epoch 15/100\n",
            "352/352 [==============================] - 5s 15ms/step - loss: 0.0618 - accuracy: 0.9794 - val_loss: 1.1149 - val_accuracy: 0.7968\n",
            "Epoch 16/100\n",
            "352/352 [==============================] - 5s 15ms/step - loss: 0.0528 - accuracy: 0.9824 - val_loss: 1.1641 - val_accuracy: 0.7780\n",
            "Epoch 17/100\n",
            "352/352 [==============================] - 5s 15ms/step - loss: 0.0507 - accuracy: 0.9833 - val_loss: 1.1658 - val_accuracy: 0.7858\n",
            "Epoch 00017: early stopping\n"
          ],
          "name": "stdout"
        }
      ]
    },
    {
      "cell_type": "code",
      "metadata": {
        "id": "UM9oI2H1ZxPF",
        "colab": {
          "base_uri": "https://localhost:8080/"
        },
        "outputId": "7a1b366f-b485-4412-f847-2ae31b921303"
      },
      "source": [
        "# Result Print\n",
        "results = result_print(model_1)\n",
        "accTest.append(results[1])\n",
        "accTrain.append(results[0])"
      ],
      "execution_count": null,
      "outputs": [
        {
          "output_type": "stream",
          "text": [
            "1407/1407 [==============================] - 5s 3ms/step - loss: 0.0469 - accuracy: 0.9848\n",
            "Train loss: 0.04688968509435654 - Train accuracy: 0.9847999811172485\n",
            "\n",
            "157/157 [==============================] - 1s 4ms/step - loss: 1.1658 - accuracy: 0.7858\n",
            "Validation loss: 1.1658434867858887 - Validation accuracy: 0.7857999801635742\n",
            "\n",
            "313/313 [==============================] - 1s 3ms/step - loss: 1.1922 - accuracy: 0.7818\n",
            "Test loss: 1.192232370376587 - Test accuracy: 0.7817999720573425\n"
          ],
          "name": "stdout"
        }
      ]
    },
    {
      "cell_type": "code",
      "metadata": {
        "id": "i7m6BeBRZ35U",
        "colab": {
          "base_uri": "https://localhost:8080/",
          "height": 295
        },
        "outputId": "b97c2cfc-6da7-4236-891e-0f97b100c1fd"
      },
      "source": [
        "# Plot Accuracy\n",
        "plot(history_1)"
      ],
      "execution_count": null,
      "outputs": [
        {
          "output_type": "display_data",
          "data": {
            "image/png": "[encoded data removed]",
            "text/plain": [
              "<Figure size 432x288 with 1 Axes>"
            ]
          },
          "metadata": {
            "tags": [],
            "needs_background": "light"
          }
        }
      ]
    },
    {
      "cell_type": "markdown",
      "metadata": {
        "id": "31K6YUaLjx-1"
      },
      "source": [
        "# Without Dropout and Without BatchNormalization\n",
        "\n",
        "\n",
        "---\n",
        "In this model and the following models, augmentation done data set has been studied.\n",
        "\n",
        "\n"
      ]
    },
    {
      "cell_type": "code",
      "metadata": {
        "id": "EGRUD7mwsCud"
      },
      "source": [
        "# Augmentation\n",
        "datagen = ImageDataGenerator(    featurewise_center=False,\n",
        "                                 samplewise_center=False,\n",
        "                                 featurewise_std_normalization=False,\n",
        "                                 samplewise_std_normalization=False,\n",
        "                                 zca_whitening=False,\n",
        "                                 rotation_range=30,\n",
        "                                 width_shift_range=0.2,  # Görüntüleri rasgele olarak yatay olarak kaydırın.\n",
        "                                 height_shift_range=0.2,  # Görüntüleri rasgele olarak dikey olarak kaydırın.\n",
        "                                 horizontal_flip=True,  # Fotoğrafı yatay düzlemde rastgele çevirme.\n",
        "                                 vertical_flip=False,\n",
        "                                 zoom_range =0.2)\n",
        "datagen.fit(x_train)"
      ],
      "execution_count": null,
      "outputs": []
    },
    {
      "cell_type": "code",
      "metadata": {
        "id": "MQT2m0l_vXR0",
        "colab": {
          "base_uri": "https://localhost:8080/"
        },
        "outputId": "4de963fc-62ee-4944-c641-98ea5bd11029"
      },
      "source": [
        "batch_size= 128\n",
        "epochs=100\n",
        "num_classes =10\n",
        "model_2 = Sequential()\n",
        "model_2.add(Conv2D(filters = 32, kernel_size = (3,3),padding='Same',activation ='relu', input_shape = x_train.shape[1:]))\n",
        "model_2.add(Conv2D(filters = 64, kernel_size = (3,3),padding='Same',activation ='relu'))\n",
        "model_2.add(AveragePooling2D(pool_size=(2,2)))\n",
        "model_2.add(Conv2D(filters = 64, kernel_size = (3,3),padding='Same',activation ='relu'))\n",
        "model_2.add(AveragePooling2D(pool_size=(2,2)))\n",
        "model_2.add(Conv2D(filters = 128, kernel_size = (3,3), activation ='relu',padding='Same'))\n",
        "model_2.add(Conv2D(filters = 256, kernel_size = (3,3), activation ='relu', padding='Same'))\n",
        "model_2.add(AveragePooling2D(pool_size=(2,2)))\n",
        "model_2.add(Flatten())\n",
        "model_2.add(Dense(512,activation='relu'))\n",
        "model_2.add(Dense(num_classes,activation='softmax'))\n",
        "model_2.summary()"
      ],
      "execution_count": null,
      "outputs": [
        {
          "output_type": "stream",
          "text": [
            "Model: \"sequential_3\"\n",
            "_________________________________________________________________\n",
            "Layer (type)                 Output Shape              Param #   \n",
            "=================================================================\n",
            "conv2d_15 (Conv2D)           (None, 32, 32, 32)        896       \n",
            "_________________________________________________________________\n",
            "conv2d_16 (Conv2D)           (None, 32, 32, 64)        18496     \n",
            "_________________________________________________________________\n",
            "average_pooling2d_9 (Average (None, 16, 16, 64)        0         \n",
            "_________________________________________________________________\n",
            "conv2d_17 (Conv2D)           (None, 16, 16, 64)        36928     \n",
            "_________________________________________________________________\n",
            "average_pooling2d_10 (Averag (None, 8, 8, 64)          0         \n",
            "_________________________________________________________________\n",
            "conv2d_18 (Conv2D)           (None, 8, 8, 128)         73856     \n",
            "_________________________________________________________________\n",
            "conv2d_19 (Conv2D)           (None, 8, 8, 256)         295168    \n",
            "_________________________________________________________________\n",
            "average_pooling2d_11 (Averag (None, 4, 4, 256)         0         \n",
            "_________________________________________________________________\n",
            "flatten_3 (Flatten)          (None, 4096)              0         \n",
            "_________________________________________________________________\n",
            "dense_6 (Dense)              (None, 512)               2097664   \n",
            "_________________________________________________________________\n",
            "dense_7 (Dense)              (None, 10)                5130      \n",
            "=================================================================\n",
            "Total params: 2,528,138\n",
            "Trainable params: 2,528,138\n",
            "Non-trainable params: 0\n",
            "_________________________________________________________________\n"
          ],
          "name": "stdout"
        }
      ]
    },
    {
      "cell_type": "code",
      "metadata": {
        "id": "G4VKTeUMvXVU"
      },
      "source": [
        "model_2.compile(loss='categorical_crossentropy',optimizer=Adam(),metrics=['accuracy'])"
      ],
      "execution_count": null,
      "outputs": []
    },
    {
      "cell_type": "code",
      "metadata": {
        "id": "GgsDKlByxTLY",
        "colab": {
          "base_uri": "https://localhost:8080/"
        },
        "outputId": "4af6f88e-6ad6-4175-8a51-d24877cfc71a"
      },
      "source": [
        "history_2=model_2.fit_generator(datagen.flow(x_train,y_train, batch_size=batch_size),steps_per_epoch = int(np.ceil(x_train.shape[0]/float(batch_size))),\n",
        "                            epochs=epochs,validation_data=(x_val,y_val),callbacks=[callback])"
      ],
      "execution_count": null,
      "outputs": [
        {
          "output_type": "stream",
          "text": [
            "Epoch 1/100\n",
            "352/352 [==============================] - 24s 68ms/step - loss: 1.9778 - accuracy: 0.2638 - val_loss: 1.4984 - val_accuracy: 0.4648\n",
            "Epoch 2/100\n",
            "352/352 [==============================] - 24s 68ms/step - loss: 1.5579 - accuracy: 0.4306 - val_loss: 1.3511 - val_accuracy: 0.5166\n",
            "Epoch 3/100\n",
            "352/352 [==============================] - 23s 67ms/step - loss: 1.3916 - accuracy: 0.4939 - val_loss: 1.1902 - val_accuracy: 0.5836\n",
            "Epoch 4/100\n",
            "352/352 [==============================] - 24s 67ms/step - loss: 1.2476 - accuracy: 0.5515 - val_loss: 1.1372 - val_accuracy: 0.5986\n",
            "Epoch 5/100\n",
            "352/352 [==============================] - 24s 68ms/step - loss: 1.1755 - accuracy: 0.5796 - val_loss: 1.0298 - val_accuracy: 0.6362\n",
            "Epoch 6/100\n",
            "352/352 [==============================] - 24s 67ms/step - loss: 1.1019 - accuracy: 0.6049 - val_loss: 1.0316 - val_accuracy: 0.6444\n",
            "Epoch 7/100\n",
            "352/352 [==============================] - 24s 68ms/step - loss: 1.0629 - accuracy: 0.6233 - val_loss: 0.8564 - val_accuracy: 0.6984\n",
            "Epoch 8/100\n",
            "352/352 [==============================] - 24s 67ms/step - loss: 1.0041 - accuracy: 0.6426 - val_loss: 0.9357 - val_accuracy: 0.6756\n",
            "Epoch 9/100\n",
            "352/352 [==============================] - 24s 67ms/step - loss: 0.9490 - accuracy: 0.6605 - val_loss: 0.8714 - val_accuracy: 0.6952\n",
            "Epoch 10/100\n",
            "352/352 [==============================] - 23s 66ms/step - loss: 0.8992 - accuracy: 0.6809 - val_loss: 0.7468 - val_accuracy: 0.7298\n",
            "Epoch 11/100\n",
            "352/352 [==============================] - 23s 66ms/step - loss: 0.8677 - accuracy: 0.6917 - val_loss: 0.7703 - val_accuracy: 0.7298\n",
            "Epoch 12/100\n",
            "352/352 [==============================] - 23s 66ms/step - loss: 0.8368 - accuracy: 0.7067 - val_loss: 0.8121 - val_accuracy: 0.7172\n",
            "Epoch 13/100\n",
            "352/352 [==============================] - 23s 66ms/step - loss: 0.8002 - accuracy: 0.7190 - val_loss: 0.8026 - val_accuracy: 0.7256\n",
            "Epoch 14/100\n",
            "352/352 [==============================] - 23s 67ms/step - loss: 0.7675 - accuracy: 0.7289 - val_loss: 0.6896 - val_accuracy: 0.7608\n",
            "Epoch 15/100\n",
            "352/352 [==============================] - 23s 66ms/step - loss: 0.7481 - accuracy: 0.7374 - val_loss: 0.6649 - val_accuracy: 0.7726\n",
            "Epoch 16/100\n",
            "352/352 [==============================] - 23s 65ms/step - loss: 0.7337 - accuracy: 0.7420 - val_loss: 0.7225 - val_accuracy: 0.7512\n",
            "Epoch 17/100\n",
            "352/352 [==============================] - 23s 65ms/step - loss: 0.7190 - accuracy: 0.7480 - val_loss: 0.6516 - val_accuracy: 0.7736\n",
            "Epoch 18/100\n",
            "352/352 [==============================] - 23s 65ms/step - loss: 0.6849 - accuracy: 0.7641 - val_loss: 0.5847 - val_accuracy: 0.7988\n",
            "Epoch 19/100\n",
            "352/352 [==============================] - 23s 65ms/step - loss: 0.6690 - accuracy: 0.7652 - val_loss: 0.7082 - val_accuracy: 0.7648\n",
            "Epoch 20/100\n",
            "352/352 [==============================] - 23s 66ms/step - loss: 0.6748 - accuracy: 0.7607 - val_loss: 0.5998 - val_accuracy: 0.7920\n",
            "Epoch 21/100\n",
            "352/352 [==============================] - 23s 66ms/step - loss: 0.6439 - accuracy: 0.7767 - val_loss: 0.6365 - val_accuracy: 0.7810\n",
            "Epoch 22/100\n",
            "352/352 [==============================] - 23s 66ms/step - loss: 0.6235 - accuracy: 0.7839 - val_loss: 0.6204 - val_accuracy: 0.7924\n",
            "Epoch 23/100\n",
            "352/352 [==============================] - 23s 66ms/step - loss: 0.6187 - accuracy: 0.7838 - val_loss: 0.6720 - val_accuracy: 0.7784\n",
            "Epoch 24/100\n",
            "352/352 [==============================] - 23s 65ms/step - loss: 0.5970 - accuracy: 0.7906 - val_loss: 0.6238 - val_accuracy: 0.7920\n",
            "Epoch 25/100\n",
            "352/352 [==============================] - 23s 66ms/step - loss: 0.5879 - accuracy: 0.7970 - val_loss: 0.5601 - val_accuracy: 0.8164\n",
            "Epoch 26/100\n",
            "352/352 [==============================] - 23s 66ms/step - loss: 0.5787 - accuracy: 0.7991 - val_loss: 0.5441 - val_accuracy: 0.8150\n",
            "Epoch 27/100\n",
            "352/352 [==============================] - 24s 67ms/step - loss: 0.5675 - accuracy: 0.8025 - val_loss: 0.6099 - val_accuracy: 0.7988\n",
            "Epoch 28/100\n",
            "352/352 [==============================] - 23s 66ms/step - loss: 0.5659 - accuracy: 0.8020 - val_loss: 0.5739 - val_accuracy: 0.8120\n",
            "Epoch 29/100\n",
            "352/352 [==============================] - 23s 66ms/step - loss: 0.5592 - accuracy: 0.8048 - val_loss: 0.6074 - val_accuracy: 0.8020\n",
            "Epoch 30/100\n",
            "352/352 [==============================] - 23s 66ms/step - loss: 0.5349 - accuracy: 0.8139 - val_loss: 0.5475 - val_accuracy: 0.8140\n",
            "Epoch 31/100\n",
            "352/352 [==============================] - 23s 65ms/step - loss: 0.5416 - accuracy: 0.8109 - val_loss: 0.5777 - val_accuracy: 0.8022\n",
            "Epoch 32/100\n",
            "352/352 [==============================] - 23s 66ms/step - loss: 0.5217 - accuracy: 0.8150 - val_loss: 0.6008 - val_accuracy: 0.8018\n",
            "Epoch 33/100\n",
            "352/352 [==============================] - 24s 69ms/step - loss: 0.5219 - accuracy: 0.8132 - val_loss: 0.5068 - val_accuracy: 0.8274\n",
            "Epoch 34/100\n",
            "352/352 [==============================] - 24s 68ms/step - loss: 0.5033 - accuracy: 0.8234 - val_loss: 0.5021 - val_accuracy: 0.8254\n",
            "Epoch 35/100\n",
            "352/352 [==============================] - 24s 68ms/step - loss: 0.4875 - accuracy: 0.8309 - val_loss: 0.5107 - val_accuracy: 0.8302\n",
            "Epoch 36/100\n",
            "352/352 [==============================] - 24s 68ms/step - loss: 0.4988 - accuracy: 0.8261 - val_loss: 0.5939 - val_accuracy: 0.8078\n",
            "Epoch 37/100\n",
            "352/352 [==============================] - 24s 68ms/step - loss: 0.4889 - accuracy: 0.8279 - val_loss: 0.5067 - val_accuracy: 0.8286\n",
            "Epoch 38/100\n",
            "352/352 [==============================] - 24s 68ms/step - loss: 0.4759 - accuracy: 0.8308 - val_loss: 0.5453 - val_accuracy: 0.8252\n",
            "Epoch 39/100\n",
            "352/352 [==============================] - 24s 68ms/step - loss: 0.4670 - accuracy: 0.8329 - val_loss: 0.5111 - val_accuracy: 0.8296\n",
            "Epoch 40/100\n",
            "352/352 [==============================] - 24s 69ms/step - loss: 0.4655 - accuracy: 0.8361 - val_loss: 0.5155 - val_accuracy: 0.8284\n",
            "Epoch 41/100\n",
            "352/352 [==============================] - 24s 68ms/step - loss: 0.4602 - accuracy: 0.8383 - val_loss: 0.5347 - val_accuracy: 0.8230\n",
            "Epoch 42/100\n",
            "352/352 [==============================] - 24s 68ms/step - loss: 0.4566 - accuracy: 0.8406 - val_loss: 0.5151 - val_accuracy: 0.8302\n",
            "Epoch 43/100\n",
            "352/352 [==============================] - 24s 68ms/step - loss: 0.4449 - accuracy: 0.8418 - val_loss: 0.5248 - val_accuracy: 0.8294\n",
            "Epoch 00043: early stopping\n"
          ],
          "name": "stdout"
        }
      ]
    },
    {
      "cell_type": "code",
      "metadata": {
        "id": "wIgxYX95xpDb",
        "colab": {
          "base_uri": "https://localhost:8080/"
        },
        "outputId": "751b34fa-b167-4e22-c7d2-428e47718b77"
      },
      "source": [
        "# Result Print\n",
        "results = result_print(model_2)\n",
        "accTest.append(results[1])\n",
        "accTrain.append(results[0])"
      ],
      "execution_count": null,
      "outputs": [
        {
          "output_type": "stream",
          "text": [
            "1407/1407 [==============================] - 5s 3ms/step - loss: 0.3396 - accuracy: 0.8832\n",
            "Train loss: 0.3395839333534241 - Train accuracy: 0.883222222328186\n",
            "\n",
            "157/157 [==============================] - 1s 3ms/step - loss: 0.5248 - accuracy: 0.8294\n",
            "Validation loss: 0.5247556567192078 - Validation accuracy: 0.8294000029563904\n",
            "\n",
            "313/313 [==============================] - 1s 3ms/step - loss: 0.5803 - accuracy: 0.8201\n",
            "Test loss: 0.5803015828132629 - Test accuracy: 0.8201000094413757\n"
          ],
          "name": "stdout"
        }
      ]
    },
    {
      "cell_type": "code",
      "metadata": {
        "id": "btrOkUdEBQAZ",
        "colab": {
          "base_uri": "https://localhost:8080/",
          "height": 295
        },
        "outputId": "823f63ae-d90b-4f0b-add6-6eb822f5196a"
      },
      "source": [
        "# plot accuracy\n",
        "plt.plot(history_2.history['accuracy'], label='train')\n",
        "plt.plot(history_2.history['val_accuracy'], label='test')\n",
        "plt.title(\"Accuray Changes\")\n",
        "plt.xlabel(\"Epochs\")\n",
        "plt.ylabel(\"Acc\")\n",
        "plt.legend()\n",
        "plt.show()"
      ],
      "execution_count": null,
      "outputs": [
        {
          "output_type": "display_data",
          "data": {
            "image/png": "[encoded data removed]",
            "text/plain": [
              "<Figure size 432x288 with 1 Axes>"
            ]
          },
          "metadata": {
            "tags": [],
            "needs_background": "light"
          }
        }
      ]
    },
    {
      "cell_type": "markdown",
      "metadata": {
        "id": "kbFYAyhQkllO"
      },
      "source": [
        "# Without Dropout and with BatchNormalization"
      ]
    },
    {
      "cell_type": "code",
      "metadata": {
        "id": "n-IIyZ6qk2HG",
        "colab": {
          "base_uri": "https://localhost:8080/"
        },
        "outputId": "14356bad-2ba0-4c30-c0f1-b65c9300bd57"
      },
      "source": [
        "batch_size= 128\n",
        "epochs=100\n",
        "num_classes =10\n",
        "model_3 = Sequential()\n",
        "model_3.add(Conv2D(filters = 32, kernel_size = (3,3),padding='Same',activation ='relu', input_shape = x_train.shape[1:]))\n",
        "model_3.add(BatchNormalization())\n",
        "model_3.add(Conv2D(filters = 64, kernel_size = (3,3),padding='Same',activation ='relu'))\n",
        "model_3.add(BatchNormalization())\n",
        "model_3.add(AveragePooling2D(pool_size=(2,2)))\n",
        "model_3.add(Conv2D(filters = 64, kernel_size = (3,3),padding='Same',activation ='relu'))\n",
        "model_3.add(BatchNormalization())\n",
        "model_3.add(AveragePooling2D(pool_size=(2,2)))\n",
        "model_3.add(Conv2D(filters = 128, kernel_size = (3,3), activation ='relu',padding='Same'))\n",
        "model_3.add(BatchNormalization())\n",
        "model_3.add(Conv2D(filters = 256, kernel_size = (3,3), activation ='relu', padding='Same'))\n",
        "model_3.add(BatchNormalization())\n",
        "model_3.add(AveragePooling2D(pool_size=(2,2)))\n",
        "model_3.add(Flatten())\n",
        "model_3.add(Dense(512,activation='relu'))\n",
        "model_3.add(Dense(num_classes,activation='softmax'))\n",
        "model_3.summary()"
      ],
      "execution_count": null,
      "outputs": [
        {
          "output_type": "stream",
          "text": [
            "Model: \"sequential_4\"\n",
            "_________________________________________________________________\n",
            "Layer (type)                 Output Shape              Param #   \n",
            "=================================================================\n",
            "conv2d_20 (Conv2D)           (None, 32, 32, 32)        896       \n",
            "_________________________________________________________________\n",
            "batch_normalization (BatchNo (None, 32, 32, 32)        128       \n",
            "_________________________________________________________________\n",
            "conv2d_21 (Conv2D)           (None, 32, 32, 64)        18496     \n",
            "_________________________________________________________________\n",
            "batch_normalization_1 (Batch (None, 32, 32, 64)        256       \n",
            "_________________________________________________________________\n",
            "average_pooling2d_12 (Averag (None, 16, 16, 64)        0         \n",
            "_________________________________________________________________\n",
            "conv2d_22 (Conv2D)           (None, 16, 16, 64)        36928     \n",
            "_________________________________________________________________\n",
            "batch_normalization_2 (Batch (None, 16, 16, 64)        256       \n",
            "_________________________________________________________________\n",
            "average_pooling2d_13 (Averag (None, 8, 8, 64)          0         \n",
            "_________________________________________________________________\n",
            "conv2d_23 (Conv2D)           (None, 8, 8, 128)         73856     \n",
            "_________________________________________________________________\n",
            "batch_normalization_3 (Batch (None, 8, 8, 128)         512       \n",
            "_________________________________________________________________\n",
            "conv2d_24 (Conv2D)           (None, 8, 8, 256)         295168    \n",
            "_________________________________________________________________\n",
            "batch_normalization_4 (Batch (None, 8, 8, 256)         1024      \n",
            "_________________________________________________________________\n",
            "average_pooling2d_14 (Averag (None, 4, 4, 256)         0         \n",
            "_________________________________________________________________\n",
            "flatten_4 (Flatten)          (None, 4096)              0         \n",
            "_________________________________________________________________\n",
            "dense_8 (Dense)              (None, 512)               2097664   \n",
            "_________________________________________________________________\n",
            "dense_9 (Dense)              (None, 10)                5130      \n",
            "=================================================================\n",
            "Total params: 2,530,314\n",
            "Trainable params: 2,529,226\n",
            "Non-trainable params: 1,088\n",
            "_________________________________________________________________\n"
          ],
          "name": "stdout"
        }
      ]
    },
    {
      "cell_type": "code",
      "metadata": {
        "id": "AYLGre5eqYrD"
      },
      "source": [
        "model_3.compile(loss='categorical_crossentropy',optimizer=Adam(),metrics=['accuracy'])"
      ],
      "execution_count": null,
      "outputs": []
    },
    {
      "cell_type": "code",
      "metadata": {
        "id": "dMjMbmqYnbRq",
        "colab": {
          "base_uri": "https://localhost:8080/"
        },
        "outputId": "9dc93bc6-482e-41e0-ea89-046e364681b0"
      },
      "source": [
        "history_3=model_3.fit_generator(datagen.flow(x_train,y_train, batch_size=batch_size),steps_per_epoch = int(np.ceil(x_train.shape[0]/float(batch_size))),\n",
        "                            epochs=epochs,validation_data=(x_val,y_val),callbacks=[callback])"
      ],
      "execution_count": null,
      "outputs": [
        {
          "output_type": "stream",
          "text": [
            "Epoch 1/100\n",
            "352/352 [==============================] - 25s 69ms/step - loss: 1.8700 - accuracy: 0.3584 - val_loss: 3.2263 - val_accuracy: 0.1730\n",
            "Epoch 2/100\n",
            "352/352 [==============================] - 24s 69ms/step - loss: 1.3100 - accuracy: 0.5272 - val_loss: 1.0033 - val_accuracy: 0.6492\n",
            "Epoch 3/100\n",
            "352/352 [==============================] - 25s 70ms/step - loss: 1.1110 - accuracy: 0.6003 - val_loss: 0.9595 - val_accuracy: 0.6640\n",
            "Epoch 4/100\n",
            "352/352 [==============================] - 25s 70ms/step - loss: 0.9818 - accuracy: 0.6489 - val_loss: 1.0037 - val_accuracy: 0.6538\n",
            "Epoch 5/100\n",
            "352/352 [==============================] - 25s 70ms/step - loss: 0.8864 - accuracy: 0.6847 - val_loss: 0.8709 - val_accuracy: 0.7032\n",
            "Epoch 6/100\n",
            "352/352 [==============================] - 25s 70ms/step - loss: 0.8219 - accuracy: 0.7119 - val_loss: 0.8762 - val_accuracy: 0.7228\n",
            "Epoch 7/100\n",
            "352/352 [==============================] - 25s 70ms/step - loss: 0.7567 - accuracy: 0.7369 - val_loss: 0.7897 - val_accuracy: 0.7362\n",
            "Epoch 8/100\n",
            "352/352 [==============================] - 25s 70ms/step - loss: 0.7131 - accuracy: 0.7497 - val_loss: 0.6658 - val_accuracy: 0.7782\n",
            "Epoch 9/100\n",
            "352/352 [==============================] - 25s 70ms/step - loss: 0.6794 - accuracy: 0.7648 - val_loss: 0.8419 - val_accuracy: 0.7210\n",
            "Epoch 10/100\n",
            "352/352 [==============================] - 25s 70ms/step - loss: 0.6357 - accuracy: 0.7804 - val_loss: 0.7750 - val_accuracy: 0.7370\n",
            "Epoch 11/100\n",
            "352/352 [==============================] - 24s 69ms/step - loss: 0.6182 - accuracy: 0.7851 - val_loss: 0.8524 - val_accuracy: 0.7190\n",
            "Epoch 12/100\n",
            "352/352 [==============================] - 24s 67ms/step - loss: 0.5934 - accuracy: 0.7918 - val_loss: 0.5242 - val_accuracy: 0.8212\n",
            "Epoch 13/100\n",
            "352/352 [==============================] - 24s 67ms/step - loss: 0.5700 - accuracy: 0.7986 - val_loss: 0.5707 - val_accuracy: 0.8076\n",
            "Epoch 14/100\n",
            "352/352 [==============================] - 24s 67ms/step - loss: 0.5391 - accuracy: 0.8152 - val_loss: 0.5625 - val_accuracy: 0.8148\n",
            "Epoch 15/100\n",
            "352/352 [==============================] - 24s 67ms/step - loss: 0.5380 - accuracy: 0.8142 - val_loss: 0.5969 - val_accuracy: 0.8010\n",
            "Epoch 16/100\n",
            "352/352 [==============================] - 24s 67ms/step - loss: 0.5112 - accuracy: 0.8243 - val_loss: 0.5142 - val_accuracy: 0.8244\n",
            "Epoch 17/100\n",
            "352/352 [==============================] - 24s 67ms/step - loss: 0.4978 - accuracy: 0.8285 - val_loss: 0.6669 - val_accuracy: 0.7952\n",
            "Epoch 18/100\n",
            "352/352 [==============================] - 24s 67ms/step - loss: 0.4893 - accuracy: 0.8262 - val_loss: 0.5271 - val_accuracy: 0.8218\n",
            "Epoch 19/100\n",
            "352/352 [==============================] - 24s 67ms/step - loss: 0.4804 - accuracy: 0.8328 - val_loss: 0.5146 - val_accuracy: 0.8336\n",
            "Epoch 20/100\n",
            "352/352 [==============================] - 24s 67ms/step - loss: 0.4718 - accuracy: 0.8374 - val_loss: 0.5279 - val_accuracy: 0.8268\n",
            "Epoch 21/100\n",
            "352/352 [==============================] - 24s 67ms/step - loss: 0.4521 - accuracy: 0.8409 - val_loss: 0.5055 - val_accuracy: 0.8334\n",
            "Epoch 22/100\n",
            "352/352 [==============================] - 24s 67ms/step - loss: 0.4401 - accuracy: 0.8467 - val_loss: 0.4985 - val_accuracy: 0.8314\n",
            "Epoch 23/100\n",
            "352/352 [==============================] - 24s 68ms/step - loss: 0.4341 - accuracy: 0.8485 - val_loss: 0.4485 - val_accuracy: 0.8542\n",
            "Epoch 24/100\n",
            "352/352 [==============================] - 24s 67ms/step - loss: 0.4155 - accuracy: 0.8571 - val_loss: 0.5293 - val_accuracy: 0.8296\n",
            "Epoch 25/100\n",
            "352/352 [==============================] - 24s 67ms/step - loss: 0.4104 - accuracy: 0.8574 - val_loss: 0.4976 - val_accuracy: 0.8432\n",
            "Epoch 26/100\n",
            "352/352 [==============================] - 24s 67ms/step - loss: 0.4151 - accuracy: 0.8555 - val_loss: 0.4810 - val_accuracy: 0.8472\n",
            "Epoch 27/100\n",
            "352/352 [==============================] - 24s 67ms/step - loss: 0.3882 - accuracy: 0.8647 - val_loss: 0.4820 - val_accuracy: 0.8466\n",
            "Epoch 28/100\n",
            "352/352 [==============================] - 24s 68ms/step - loss: 0.3891 - accuracy: 0.8638 - val_loss: 0.5032 - val_accuracy: 0.8392\n",
            "Epoch 29/100\n",
            "352/352 [==============================] - 24s 67ms/step - loss: 0.3822 - accuracy: 0.8661 - val_loss: 0.4684 - val_accuracy: 0.8480\n",
            "Epoch 30/100\n",
            "352/352 [==============================] - 24s 67ms/step - loss: 0.3850 - accuracy: 0.8678 - val_loss: 0.5817 - val_accuracy: 0.8278\n",
            "Epoch 31/100\n",
            "352/352 [==============================] - 24s 67ms/step - loss: 0.3694 - accuracy: 0.8718 - val_loss: 0.4699 - val_accuracy: 0.8586\n",
            "Epoch 32/100\n",
            "352/352 [==============================] - 24s 67ms/step - loss: 0.3646 - accuracy: 0.8727 - val_loss: 0.4576 - val_accuracy: 0.8570\n",
            "Epoch 33/100\n",
            "352/352 [==============================] - 24s 67ms/step - loss: 0.3534 - accuracy: 0.8765 - val_loss: 0.4383 - val_accuracy: 0.8656\n",
            "Epoch 34/100\n",
            "352/352 [==============================] - 24s 67ms/step - loss: 0.3536 - accuracy: 0.8746 - val_loss: 0.5017 - val_accuracy: 0.8450\n",
            "Epoch 35/100\n",
            "352/352 [==============================] - 24s 67ms/step - loss: 0.3526 - accuracy: 0.8769 - val_loss: 0.4957 - val_accuracy: 0.8480\n",
            "Epoch 36/100\n",
            "352/352 [==============================] - 24s 68ms/step - loss: 0.3459 - accuracy: 0.8806 - val_loss: 0.4501 - val_accuracy: 0.8586\n",
            "Epoch 37/100\n",
            "352/352 [==============================] - 24s 67ms/step - loss: 0.3353 - accuracy: 0.8838 - val_loss: 0.4510 - val_accuracy: 0.8610\n",
            "Epoch 38/100\n",
            "352/352 [==============================] - 24s 67ms/step - loss: 0.3213 - accuracy: 0.8881 - val_loss: 0.4058 - val_accuracy: 0.8656\n",
            "Epoch 39/100\n",
            "352/352 [==============================] - 24s 67ms/step - loss: 0.3402 - accuracy: 0.8801 - val_loss: 0.4856 - val_accuracy: 0.8524\n",
            "Epoch 40/100\n",
            "352/352 [==============================] - 24s 68ms/step - loss: 0.3313 - accuracy: 0.8836 - val_loss: 0.5225 - val_accuracy: 0.8452\n",
            "Epoch 41/100\n",
            "352/352 [==============================] - 24s 68ms/step - loss: 0.3227 - accuracy: 0.8852 - val_loss: 0.3946 - val_accuracy: 0.8762\n",
            "Epoch 42/100\n",
            "352/352 [==============================] - 24s 68ms/step - loss: 0.3189 - accuracy: 0.8899 - val_loss: 0.4996 - val_accuracy: 0.8540\n",
            "Epoch 43/100\n",
            "352/352 [==============================] - 24s 68ms/step - loss: 0.3105 - accuracy: 0.8915 - val_loss: 0.5156 - val_accuracy: 0.8438\n",
            "Epoch 44/100\n",
            "352/352 [==============================] - 23s 66ms/step - loss: 0.3047 - accuracy: 0.8968 - val_loss: 0.4586 - val_accuracy: 0.8592\n",
            "Epoch 45/100\n",
            "352/352 [==============================] - 23s 66ms/step - loss: 0.3102 - accuracy: 0.8919 - val_loss: 0.4287 - val_accuracy: 0.8742\n",
            "Epoch 46/100\n",
            "352/352 [==============================] - 23s 67ms/step - loss: 0.2983 - accuracy: 0.8947 - val_loss: 0.4349 - val_accuracy: 0.8654\n",
            "Epoch 47/100\n",
            "352/352 [==============================] - 23s 66ms/step - loss: 0.2931 - accuracy: 0.8994 - val_loss: 0.4050 - val_accuracy: 0.8732\n",
            "Epoch 48/100\n",
            "352/352 [==============================] - 23s 66ms/step - loss: 0.2964 - accuracy: 0.8975 - val_loss: 0.4372 - val_accuracy: 0.8648\n",
            "Epoch 49/100\n",
            "352/352 [==============================] - 24s 67ms/step - loss: 0.2840 - accuracy: 0.8999 - val_loss: 0.5643 - val_accuracy: 0.8394\n",
            "Epoch 00049: early stopping\n"
          ],
          "name": "stdout"
        }
      ]
    },
    {
      "cell_type": "code",
      "metadata": {
        "id": "T1zGJZXBk2Ds",
        "colab": {
          "base_uri": "https://localhost:8080/"
        },
        "outputId": "be7b7511-cc59-4e14-974f-2e3c3bed5196"
      },
      "source": [
        "# Result Print\n",
        "results = result_print(model_3)\n",
        "accTest.append(results[1])\n",
        "accTrain.append(results[0])"
      ],
      "execution_count": null,
      "outputs": [
        {
          "output_type": "stream",
          "text": [
            "1407/1407 [==============================] - 5s 3ms/step - loss: 0.3240 - accuracy: 0.8928\n",
            "Train loss: 0.3240291178226471 - Train accuracy: 0.8928222060203552\n",
            "\n",
            "157/157 [==============================] - 1s 3ms/step - loss: 0.5643 - accuracy: 0.8394\n",
            "Validation loss: 0.5643081665039062 - Validation accuracy: 0.8393999934196472\n",
            "\n",
            "313/313 [==============================] - 1s 3ms/step - loss: 0.6068 - accuracy: 0.8270\n",
            "Test loss: 0.6067510843276978 - Test accuracy: 0.8270000219345093\n"
          ],
          "name": "stdout"
        }
      ]
    },
    {
      "cell_type": "code",
      "metadata": {
        "id": "sptWQvoCk2Ad",
        "colab": {
          "base_uri": "https://localhost:8080/",
          "height": 295
        },
        "outputId": "2a4ebbec-0376-456c-d11c-831e3999afa0"
      },
      "source": [
        "# plot accuracy\n",
        "plt.plot(history_3.history['accuracy'], label='train')\n",
        "plt.plot(history_3.history['val_accuracy'], label='test')\n",
        "plt.title(\"Accuray Changes\")\n",
        "plt.xlabel(\"Epochs\")\n",
        "plt.ylabel(\"Acc\")\n",
        "plt.legend()\n",
        "plt.show()"
      ],
      "execution_count": null,
      "outputs": [
        {
          "output_type": "display_data",
          "data": {
            "image/png": "[encoded data removed]",
            "text/plain": [
              "<Figure size 432x288 with 1 Axes>"
            ]
          },
          "metadata": {
            "tags": [],
            "needs_background": "light"
          }
        }
      ]
    },
    {
      "cell_type": "markdown",
      "metadata": {
        "id": "b_EUDSJxkPEd"
      },
      "source": [
        "# With Dropout-BatchNormalization"
      ]
    },
    {
      "cell_type": "code",
      "metadata": {
        "id": "kTfx7TTRkkYx",
        "colab": {
          "base_uri": "https://localhost:8080/"
        },
        "outputId": "89efce2f-65bd-4a52-a20a-a9fbb99a80ff"
      },
      "source": [
        "batch_size= 128\n",
        "epochs=100\n",
        "num_classes =10\n",
        "model_4 = Sequential()\n",
        "model_4.add(Conv2D(filters = 32, kernel_size = (3,3),padding='Same',activation ='relu', input_shape = x_train.shape[1:]))\n",
        "model_4.add(BatchNormalization())\n",
        "model_4.add(Conv2D(filters = 64, kernel_size = (3,3),padding='Same',activation ='relu'))\n",
        "model_4.add(BatchNormalization())\n",
        "model_4.add(AveragePooling2D(pool_size=(2,2)))\n",
        "model_4.add(Conv2D(filters = 64, kernel_size = (3,3),padding='Same',activation ='relu'))\n",
        "model_4.add(BatchNormalization())\n",
        "model_4.add(AveragePooling2D(pool_size=(2,2)))\n",
        "model_4.add(Dropout(0.1))\n",
        "model_4.add(Conv2D(filters = 128, kernel_size = (3,3), activation ='relu',padding='Same'))\n",
        "model_4.add(BatchNormalization())\n",
        "model_4.add(Conv2D(filters = 256, kernel_size = (3,3), activation ='relu', padding='Same'))\n",
        "model_4.add(BatchNormalization())\n",
        "model_4.add(AveragePooling2D(pool_size=(2,2)))\n",
        "model_4.add(Dropout(0.2))\n",
        "model_4.add(Flatten())\n",
        "model_4.add(Dense(512,activation='relu'))\n",
        "model_4.add(Dropout(0.2))\n",
        "model_4.add(Dense(num_classes,activation='softmax'))\n",
        "model_4.summary()"
      ],
      "execution_count": null,
      "outputs": [
        {
          "output_type": "stream",
          "text": [
            "Model: \"sequential_5\"\n",
            "_________________________________________________________________\n",
            "Layer (type)                 Output Shape              Param #   \n",
            "=================================================================\n",
            "conv2d_25 (Conv2D)           (None, 32, 32, 32)        896       \n",
            "_________________________________________________________________\n",
            "batch_normalization_5 (Batch (None, 32, 32, 32)        128       \n",
            "_________________________________________________________________\n",
            "conv2d_26 (Conv2D)           (None, 32, 32, 64)        18496     \n",
            "_________________________________________________________________\n",
            "batch_normalization_6 (Batch (None, 32, 32, 64)        256       \n",
            "_________________________________________________________________\n",
            "average_pooling2d_15 (Averag (None, 16, 16, 64)        0         \n",
            "_________________________________________________________________\n",
            "conv2d_27 (Conv2D)           (None, 16, 16, 64)        36928     \n",
            "_________________________________________________________________\n",
            "batch_normalization_7 (Batch (None, 16, 16, 64)        256       \n",
            "_________________________________________________________________\n",
            "average_pooling2d_16 (Averag (None, 8, 8, 64)          0         \n",
            "_________________________________________________________________\n",
            "dropout (Dropout)            (None, 8, 8, 64)          0         \n",
            "_________________________________________________________________\n",
            "conv2d_28 (Conv2D)           (None, 8, 8, 128)         73856     \n",
            "_________________________________________________________________\n",
            "batch_normalization_8 (Batch (None, 8, 8, 128)         512       \n",
            "_________________________________________________________________\n",
            "conv2d_29 (Conv2D)           (None, 8, 8, 256)         295168    \n",
            "_________________________________________________________________\n",
            "batch_normalization_9 (Batch (None, 8, 8, 256)         1024      \n",
            "_________________________________________________________________\n",
            "average_pooling2d_17 (Averag (None, 4, 4, 256)         0         \n",
            "_________________________________________________________________\n",
            "dropout_1 (Dropout)          (None, 4, 4, 256)         0         \n",
            "_________________________________________________________________\n",
            "flatten_5 (Flatten)          (None, 4096)              0         \n",
            "_________________________________________________________________\n",
            "dense_10 (Dense)             (None, 512)               2097664   \n",
            "_________________________________________________________________\n",
            "dropout_2 (Dropout)          (None, 512)               0         \n",
            "_________________________________________________________________\n",
            "dense_11 (Dense)             (None, 10)                5130      \n",
            "=================================================================\n",
            "Total params: 2,530,314\n",
            "Trainable params: 2,529,226\n",
            "Non-trainable params: 1,088\n",
            "_________________________________________________________________\n"
          ],
          "name": "stdout"
        }
      ]
    },
    {
      "cell_type": "code",
      "metadata": {
        "id": "QMibr8uGqbfl"
      },
      "source": [
        "model_4.compile(loss = keras.losses.categorical_crossentropy,\n",
        "              optimizer = Adam(),\n",
        "              metrics=[\"accuracy\"])"
      ],
      "execution_count": null,
      "outputs": []
    },
    {
      "cell_type": "code",
      "metadata": {
        "id": "nI-IomwioMK5",
        "colab": {
          "base_uri": "https://localhost:8080/"
        },
        "outputId": "5eb70796-9a62-4620-e0fb-03e907e4c128"
      },
      "source": [
        "history_4=model_4.fit_generator(datagen.flow(x_train,y_train, batch_size=batch_size),steps_per_epoch = int(np.ceil(x_train.shape[0]/float(batch_size))),\n",
        "                            epochs=epochs,validation_data=(x_val,y_val),callbacks=[callback])"
      ],
      "execution_count": null,
      "outputs": [
        {
          "output_type": "stream",
          "text": [
            "Epoch 1/100\n",
            "352/352 [==============================] - 25s 67ms/step - loss: 1.9042 - accuracy: 0.3430 - val_loss: 4.0152 - val_accuracy: 0.1534\n",
            "Epoch 2/100\n",
            "352/352 [==============================] - 23s 66ms/step - loss: 1.3925 - accuracy: 0.4984 - val_loss: 1.2846 - val_accuracy: 0.5772\n",
            "Epoch 3/100\n",
            "352/352 [==============================] - 23s 66ms/step - loss: 1.2298 - accuracy: 0.5634 - val_loss: 1.0024 - val_accuracy: 0.6556\n",
            "Epoch 4/100\n",
            "352/352 [==============================] - 23s 67ms/step - loss: 1.1005 - accuracy: 0.6052 - val_loss: 0.9681 - val_accuracy: 0.6670\n",
            "Epoch 5/100\n",
            "352/352 [==============================] - 23s 66ms/step - loss: 1.0044 - accuracy: 0.6446 - val_loss: 0.9995 - val_accuracy: 0.6686\n",
            "Epoch 6/100\n",
            "352/352 [==============================] - 23s 66ms/step - loss: 0.9352 - accuracy: 0.6717 - val_loss: 0.8471 - val_accuracy: 0.7062\n",
            "Epoch 7/100\n",
            "352/352 [==============================] - 23s 66ms/step - loss: 0.8859 - accuracy: 0.6901 - val_loss: 0.7085 - val_accuracy: 0.7580\n",
            "Epoch 8/100\n",
            "352/352 [==============================] - 23s 66ms/step - loss: 0.8362 - accuracy: 0.7084 - val_loss: 0.7975 - val_accuracy: 0.7328\n",
            "Epoch 9/100\n",
            "352/352 [==============================] - 23s 66ms/step - loss: 0.7903 - accuracy: 0.7256 - val_loss: 0.6973 - val_accuracy: 0.7584\n",
            "Epoch 10/100\n",
            "352/352 [==============================] - 23s 66ms/step - loss: 0.7625 - accuracy: 0.7377 - val_loss: 0.7199 - val_accuracy: 0.7630\n",
            "Epoch 11/100\n",
            "352/352 [==============================] - 23s 67ms/step - loss: 0.7306 - accuracy: 0.7476 - val_loss: 0.6559 - val_accuracy: 0.7814\n",
            "Epoch 12/100\n",
            "352/352 [==============================] - 23s 66ms/step - loss: 0.6965 - accuracy: 0.7599 - val_loss: 0.6242 - val_accuracy: 0.7904\n",
            "Epoch 13/100\n",
            "352/352 [==============================] - 23s 66ms/step - loss: 0.6866 - accuracy: 0.7625 - val_loss: 0.8818 - val_accuracy: 0.7168\n",
            "Epoch 14/100\n",
            "352/352 [==============================] - 23s 66ms/step - loss: 0.6716 - accuracy: 0.7712 - val_loss: 0.5953 - val_accuracy: 0.7976\n",
            "Epoch 15/100\n",
            "352/352 [==============================] - 23s 66ms/step - loss: 0.6468 - accuracy: 0.7767 - val_loss: 0.5859 - val_accuracy: 0.8064\n",
            "Epoch 16/100\n",
            "352/352 [==============================] - 23s 66ms/step - loss: 0.6282 - accuracy: 0.7847 - val_loss: 0.6198 - val_accuracy: 0.7992\n",
            "Epoch 17/100\n",
            "352/352 [==============================] - 23s 66ms/step - loss: 0.6192 - accuracy: 0.7886 - val_loss: 0.6451 - val_accuracy: 0.7968\n",
            "Epoch 18/100\n",
            "352/352 [==============================] - 23s 66ms/step - loss: 0.6040 - accuracy: 0.7912 - val_loss: 0.5392 - val_accuracy: 0.8222\n",
            "Epoch 19/100\n",
            "352/352 [==============================] - 23s 66ms/step - loss: 0.5877 - accuracy: 0.7987 - val_loss: 0.5964 - val_accuracy: 0.8024\n",
            "Epoch 20/100\n",
            "352/352 [==============================] - 23s 66ms/step - loss: 0.5780 - accuracy: 0.8026 - val_loss: 0.4967 - val_accuracy: 0.8346\n",
            "Epoch 21/100\n",
            "352/352 [==============================] - 23s 67ms/step - loss: 0.5769 - accuracy: 0.7984 - val_loss: 0.4878 - val_accuracy: 0.8408\n",
            "Epoch 22/100\n",
            "352/352 [==============================] - 23s 66ms/step - loss: 0.5553 - accuracy: 0.8091 - val_loss: 0.5345 - val_accuracy: 0.8184\n",
            "Epoch 23/100\n",
            "352/352 [==============================] - 23s 66ms/step - loss: 0.5477 - accuracy: 0.8104 - val_loss: 0.4978 - val_accuracy: 0.8354\n",
            "Epoch 24/100\n",
            "352/352 [==============================] - 23s 66ms/step - loss: 0.5341 - accuracy: 0.8160 - val_loss: 0.4661 - val_accuracy: 0.8370\n",
            "Epoch 25/100\n",
            "352/352 [==============================] - 23s 66ms/step - loss: 0.5371 - accuracy: 0.8139 - val_loss: 0.5839 - val_accuracy: 0.8162\n",
            "Epoch 26/100\n",
            "352/352 [==============================] - 23s 67ms/step - loss: 0.5241 - accuracy: 0.8193 - val_loss: 0.5038 - val_accuracy: 0.8340\n",
            "Epoch 27/100\n",
            "352/352 [==============================] - 23s 66ms/step - loss: 0.5195 - accuracy: 0.8188 - val_loss: 0.4940 - val_accuracy: 0.8384\n",
            "Epoch 28/100\n",
            "352/352 [==============================] - 23s 67ms/step - loss: 0.5099 - accuracy: 0.8246 - val_loss: 0.4453 - val_accuracy: 0.8526\n",
            "Epoch 29/100\n",
            "352/352 [==============================] - 23s 66ms/step - loss: 0.5038 - accuracy: 0.8264 - val_loss: 0.4847 - val_accuracy: 0.8396\n",
            "Epoch 30/100\n",
            "352/352 [==============================] - 23s 67ms/step - loss: 0.4972 - accuracy: 0.8317 - val_loss: 0.4886 - val_accuracy: 0.8460\n",
            "Epoch 31/100\n",
            "352/352 [==============================] - 23s 66ms/step - loss: 0.4920 - accuracy: 0.8313 - val_loss: 0.4522 - val_accuracy: 0.8492\n",
            "Epoch 32/100\n",
            "352/352 [==============================] - 24s 67ms/step - loss: 0.4843 - accuracy: 0.8322 - val_loss: 0.4921 - val_accuracy: 0.8432\n",
            "Epoch 33/100\n",
            "352/352 [==============================] - 23s 66ms/step - loss: 0.4807 - accuracy: 0.8353 - val_loss: 0.4953 - val_accuracy: 0.8342\n",
            "Epoch 34/100\n",
            "352/352 [==============================] - 23s 66ms/step - loss: 0.4731 - accuracy: 0.8349 - val_loss: 0.5011 - val_accuracy: 0.8400\n",
            "Epoch 35/100\n",
            "352/352 [==============================] - 23s 67ms/step - loss: 0.4719 - accuracy: 0.8414 - val_loss: 0.4424 - val_accuracy: 0.8522\n",
            "Epoch 36/100\n",
            "352/352 [==============================] - 23s 66ms/step - loss: 0.4546 - accuracy: 0.8428 - val_loss: 0.4394 - val_accuracy: 0.8534\n",
            "Epoch 37/100\n",
            "352/352 [==============================] - 23s 66ms/step - loss: 0.4569 - accuracy: 0.8440 - val_loss: 0.4401 - val_accuracy: 0.8572\n",
            "Epoch 38/100\n",
            "352/352 [==============================] - 23s 67ms/step - loss: 0.4604 - accuracy: 0.8424 - val_loss: 0.4088 - val_accuracy: 0.8616\n",
            "Epoch 39/100\n",
            "352/352 [==============================] - 24s 67ms/step - loss: 0.4428 - accuracy: 0.8464 - val_loss: 0.4115 - val_accuracy: 0.8610\n",
            "Epoch 40/100\n",
            "352/352 [==============================] - 23s 67ms/step - loss: 0.4357 - accuracy: 0.8498 - val_loss: 0.4323 - val_accuracy: 0.8566\n",
            "Epoch 41/100\n",
            "352/352 [==============================] - 23s 66ms/step - loss: 0.4433 - accuracy: 0.8480 - val_loss: 0.4354 - val_accuracy: 0.8596\n",
            "Epoch 42/100\n",
            "352/352 [==============================] - 23s 67ms/step - loss: 0.4386 - accuracy: 0.8476 - val_loss: 0.4162 - val_accuracy: 0.8614\n",
            "Epoch 43/100\n",
            "352/352 [==============================] - 23s 66ms/step - loss: 0.4285 - accuracy: 0.8507 - val_loss: 0.3722 - val_accuracy: 0.8758\n",
            "Epoch 44/100\n",
            "352/352 [==============================] - 23s 67ms/step - loss: 0.4256 - accuracy: 0.8526 - val_loss: 0.4853 - val_accuracy: 0.8348\n",
            "Epoch 45/100\n",
            "352/352 [==============================] - 23s 66ms/step - loss: 0.4283 - accuracy: 0.8540 - val_loss: 0.4413 - val_accuracy: 0.8546\n",
            "Epoch 46/100\n",
            "352/352 [==============================] - 23s 67ms/step - loss: 0.4131 - accuracy: 0.8574 - val_loss: 0.3818 - val_accuracy: 0.8742\n",
            "Epoch 47/100\n",
            "352/352 [==============================] - 23s 66ms/step - loss: 0.4194 - accuracy: 0.8558 - val_loss: 0.4036 - val_accuracy: 0.8634\n",
            "Epoch 48/100\n",
            "352/352 [==============================] - 23s 67ms/step - loss: 0.4131 - accuracy: 0.8556 - val_loss: 0.5261 - val_accuracy: 0.8368\n",
            "Epoch 49/100\n",
            "352/352 [==============================] - 24s 67ms/step - loss: 0.4053 - accuracy: 0.8610 - val_loss: 0.4234 - val_accuracy: 0.8640\n",
            "Epoch 50/100\n",
            "352/352 [==============================] - 24s 67ms/step - loss: 0.4079 - accuracy: 0.8581 - val_loss: 0.5090 - val_accuracy: 0.8460\n",
            "Epoch 51/100\n",
            "352/352 [==============================] - 23s 66ms/step - loss: 0.4021 - accuracy: 0.8580 - val_loss: 0.4924 - val_accuracy: 0.8506\n",
            "Epoch 00051: early stopping\n"
          ],
          "name": "stdout"
        }
      ]
    },
    {
      "cell_type": "code",
      "metadata": {
        "id": "sIwqsgnQkkVw",
        "colab": {
          "base_uri": "https://localhost:8080/"
        },
        "outputId": "fcc6a2f2-a123-46d3-a161-f4311dc592b5"
      },
      "source": [
        "# Result Print\n",
        "results = result_print(model_4)\n",
        "accTest.append(results[1])\n",
        "accTrain.append(results[0])"
      ],
      "execution_count": null,
      "outputs": [
        {
          "output_type": "stream",
          "text": [
            "1407/1407 [==============================] - 5s 3ms/step - loss: 0.3491 - accuracy: 0.8854\n",
            "Train loss: 0.34910643100738525 - Train accuracy: 0.8853999972343445\n",
            "\n",
            "157/157 [==============================] - 1s 3ms/step - loss: 0.4924 - accuracy: 0.8506\n",
            "Validation loss: 0.49241259694099426 - Validation accuracy: 0.850600004196167\n",
            "\n",
            "313/313 [==============================] - 1s 3ms/step - loss: 0.5176 - accuracy: 0.8416\n",
            "Test loss: 0.5175735950469971 - Test accuracy: 0.8416000008583069\n"
          ],
          "name": "stdout"
        }
      ]
    },
    {
      "cell_type": "code",
      "metadata": {
        "id": "Iqt6SIvSkkSC",
        "colab": {
          "base_uri": "https://localhost:8080/",
          "height": 295
        },
        "outputId": "a7e2130a-90d8-4f43-ad2e-16bb31053a26"
      },
      "source": [
        "# plot accuracy\n",
        "plt.plot(history_4.history['accuracy'], label='train')\n",
        "plt.plot(history_4.history['val_accuracy'], label='test')\n",
        "plt.title(\"Accuray Changes\")\n",
        "plt.xlabel(\"Epochs\")\n",
        "plt.ylabel(\"Acc\")\n",
        "plt.legend()\n",
        "plt.show()"
      ],
      "execution_count": null,
      "outputs": [
        {
          "output_type": "display_data",
          "data": {
            "image/png": "[encoded data removed]",
            "text/plain": [
              "<Figure size 432x288 with 1 Axes>"
            ]
          },
          "metadata": {
            "tags": [],
            "needs_background": "light"
          }
        }
      ]
    },
    {
      "cell_type": "markdown",
      "metadata": {
        "id": "jzUMjG3nmaSP"
      },
      "source": [
        "# Less Pooling Layer"
      ]
    },
    {
      "cell_type": "code",
      "metadata": {
        "id": "053GJobimfgz",
        "colab": {
          "base_uri": "https://localhost:8080/"
        },
        "outputId": "7317ca6a-ea51-4bf3-ee5c-74720ef597dd"
      },
      "source": [
        "batch_size= 128\n",
        "epochs=100\n",
        "num_classes =10\n",
        "model_5 = Sequential()\n",
        "model_5.add(Conv2D(filters = 32, kernel_size = (3,3),padding='Same',activation ='relu', input_shape = x_train.shape[1:]))\n",
        "model_5.add(BatchNormalization())\n",
        "model_5.add(Conv2D(filters = 64, kernel_size = (3,3),padding='Same',activation ='relu'))\n",
        "model_5.add(BatchNormalization())\n",
        "model_5.add(Conv2D(filters = 64, kernel_size = (3,3),padding='Same',activation ='relu'))\n",
        "model_5.add(BatchNormalization())\n",
        "model_5.add(Dropout(0.1))\n",
        "model_5.add(Conv2D(filters = 128, kernel_size = (3,3), activation ='relu',padding='Same'))\n",
        "model_5.add(BatchNormalization())\n",
        "model_5.add(Conv2D(filters = 256, kernel_size = (3,3), activation ='relu', padding='Same'))\n",
        "model_5.add(BatchNormalization())\n",
        "model_5.add(AveragePooling2D(pool_size=(2,2)))\n",
        "model_5.add(Dropout(0.2))\n",
        "model_5.add(Flatten())\n",
        "model_5.add(Dense(512,activation='relu'))\n",
        "model_5.add(Dropout(0.2))\n",
        "model_5.add(Dense(num_classes,activation='softmax'))\n",
        "model_5.summary()\n"
      ],
      "execution_count": null,
      "outputs": [
        {
          "output_type": "stream",
          "text": [
            "Model: \"sequential_6\"\n",
            "_________________________________________________________________\n",
            "Layer (type)                 Output Shape              Param #   \n",
            "=================================================================\n",
            "conv2d_30 (Conv2D)           (None, 32, 32, 32)        896       \n",
            "_________________________________________________________________\n",
            "batch_normalization_10 (Batc (None, 32, 32, 32)        128       \n",
            "_________________________________________________________________\n",
            "conv2d_31 (Conv2D)           (None, 32, 32, 64)        18496     \n",
            "_________________________________________________________________\n",
            "batch_normalization_11 (Batc (None, 32, 32, 64)        256       \n",
            "_________________________________________________________________\n",
            "conv2d_32 (Conv2D)           (None, 32, 32, 64)        36928     \n",
            "_________________________________________________________________\n",
            "batch_normalization_12 (Batc (None, 32, 32, 64)        256       \n",
            "_________________________________________________________________\n",
            "dropout_3 (Dropout)          (None, 32, 32, 64)        0         \n",
            "_________________________________________________________________\n",
            "conv2d_33 (Conv2D)           (None, 32, 32, 128)       73856     \n",
            "_________________________________________________________________\n",
            "batch_normalization_13 (Batc (None, 32, 32, 128)       512       \n",
            "_________________________________________________________________\n",
            "conv2d_34 (Conv2D)           (None, 32, 32, 256)       295168    \n",
            "_________________________________________________________________\n",
            "batch_normalization_14 (Batc (None, 32, 32, 256)       1024      \n",
            "_________________________________________________________________\n",
            "average_pooling2d_18 (Averag (None, 16, 16, 256)       0         \n",
            "_________________________________________________________________\n",
            "dropout_4 (Dropout)          (None, 16, 16, 256)       0         \n",
            "_________________________________________________________________\n",
            "flatten_6 (Flatten)          (None, 65536)             0         \n",
            "_________________________________________________________________\n",
            "dense_12 (Dense)             (None, 512)               33554944  \n",
            "_________________________________________________________________\n",
            "dropout_5 (Dropout)          (None, 512)               0         \n",
            "_________________________________________________________________\n",
            "dense_13 (Dense)             (None, 10)                5130      \n",
            "=================================================================\n",
            "Total params: 33,987,594\n",
            "Trainable params: 33,986,506\n",
            "Non-trainable params: 1,088\n",
            "_________________________________________________________________\n"
          ],
          "name": "stdout"
        }
      ]
    },
    {
      "cell_type": "code",
      "metadata": {
        "id": "1PYLyzBeqebN"
      },
      "source": [
        "model_5.compile(loss = keras.losses.categorical_crossentropy,\n",
        "              optimizer = Adam(),\n",
        "              metrics=[\"accuracy\"])"
      ],
      "execution_count": null,
      "outputs": []
    },
    {
      "cell_type": "code",
      "metadata": {
        "id": "dbFw0QXhmfV1",
        "colab": {
          "base_uri": "https://localhost:8080/"
        },
        "outputId": "0eb9af54-f151-4843-ebb2-6978432e9fd5"
      },
      "source": [
        "history_5=model_5.fit_generator(datagen.flow(x_train,y_train, batch_size=batch_size),steps_per_epoch = int(np.ceil(x_train.shape[0]/float(batch_size))),\n",
        "                            epochs=epochs,validation_data=(x_val,y_val),callbacks=[callback])"
      ],
      "execution_count": null,
      "outputs": [
        {
          "output_type": "stream",
          "text": [
            "Epoch 1/100\n",
            "352/352 [==============================] - 36s 95ms/step - loss: 2.7899 - accuracy: 0.2211 - val_loss: 2.9407 - val_accuracy: 0.1578\n",
            "Epoch 2/100\n",
            "352/352 [==============================] - 32s 90ms/step - loss: 1.7244 - accuracy: 0.3504 - val_loss: 1.6853 - val_accuracy: 0.4430\n",
            "Epoch 3/100\n",
            "352/352 [==============================] - 32s 90ms/step - loss: 1.5700 - accuracy: 0.4211 - val_loss: 1.4037 - val_accuracy: 0.5062\n",
            "Epoch 4/100\n",
            "352/352 [==============================] - 32s 90ms/step - loss: 1.4486 - accuracy: 0.4743 - val_loss: 1.1243 - val_accuracy: 0.5974\n",
            "Epoch 5/100\n",
            "352/352 [==============================] - 32s 90ms/step - loss: 1.3842 - accuracy: 0.4938 - val_loss: 1.4404 - val_accuracy: 0.5382\n",
            "Epoch 6/100\n",
            "352/352 [==============================] - 32s 90ms/step - loss: 1.3171 - accuracy: 0.5204 - val_loss: 1.0529 - val_accuracy: 0.6342\n",
            "Epoch 7/100\n",
            "352/352 [==============================] - 32s 89ms/step - loss: 1.2378 - accuracy: 0.5555 - val_loss: 1.2499 - val_accuracy: 0.5952\n",
            "Epoch 8/100\n",
            "352/352 [==============================] - 32s 89ms/step - loss: 1.1948 - accuracy: 0.5723 - val_loss: 1.5635 - val_accuracy: 0.5564\n",
            "Epoch 9/100\n",
            "352/352 [==============================] - 31s 89ms/step - loss: 1.1443 - accuracy: 0.5968 - val_loss: 1.2472 - val_accuracy: 0.6108\n",
            "Epoch 10/100\n",
            "352/352 [==============================] - 32s 89ms/step - loss: 1.1174 - accuracy: 0.6061 - val_loss: 1.1746 - val_accuracy: 0.6394\n",
            "Epoch 11/100\n",
            "352/352 [==============================] - 32s 90ms/step - loss: 1.0707 - accuracy: 0.6260 - val_loss: 1.1974 - val_accuracy: 0.6412\n",
            "Epoch 12/100\n",
            "352/352 [==============================] - 31s 89ms/step - loss: 1.0528 - accuracy: 0.6290 - val_loss: 1.1855 - val_accuracy: 0.6374\n",
            "Epoch 13/100\n",
            "352/352 [==============================] - 31s 89ms/step - loss: 1.0127 - accuracy: 0.6499 - val_loss: 0.8796 - val_accuracy: 0.7078\n",
            "Epoch 14/100\n",
            "352/352 [==============================] - 32s 90ms/step - loss: 0.9807 - accuracy: 0.6609 - val_loss: 1.1769 - val_accuracy: 0.6300\n",
            "Epoch 15/100\n",
            "352/352 [==============================] - 31s 89ms/step - loss: 0.9633 - accuracy: 0.6702 - val_loss: 0.9524 - val_accuracy: 0.7000\n",
            "Epoch 16/100\n",
            "352/352 [==============================] - 32s 90ms/step - loss: 0.9364 - accuracy: 0.6774 - val_loss: 0.9847 - val_accuracy: 0.7084\n",
            "Epoch 17/100\n",
            "352/352 [==============================] - 31s 89ms/step - loss: 0.9077 - accuracy: 0.6885 - val_loss: 0.8865 - val_accuracy: 0.7114\n",
            "Epoch 18/100\n",
            "352/352 [==============================] - 31s 89ms/step - loss: 0.8980 - accuracy: 0.6921 - val_loss: 0.9017 - val_accuracy: 0.7182\n",
            "Epoch 19/100\n",
            "352/352 [==============================] - 32s 89ms/step - loss: 0.8782 - accuracy: 0.6996 - val_loss: 0.8427 - val_accuracy: 0.7414\n",
            "Epoch 20/100\n",
            "352/352 [==============================] - 31s 89ms/step - loss: 0.8642 - accuracy: 0.7057 - val_loss: 0.9060 - val_accuracy: 0.7194\n",
            "Epoch 21/100\n",
            "352/352 [==============================] - 32s 90ms/step - loss: 0.8384 - accuracy: 0.7158 - val_loss: 0.8599 - val_accuracy: 0.7422\n",
            "Epoch 22/100\n",
            "352/352 [==============================] - 32s 90ms/step - loss: 0.8305 - accuracy: 0.7154 - val_loss: 0.9314 - val_accuracy: 0.7202\n",
            "Epoch 23/100\n",
            "352/352 [==============================] - 32s 90ms/step - loss: 0.8097 - accuracy: 0.7234 - val_loss: 0.7060 - val_accuracy: 0.7742\n",
            "Epoch 24/100\n",
            "352/352 [==============================] - 32s 89ms/step - loss: 0.8109 - accuracy: 0.7252 - val_loss: 0.7266 - val_accuracy: 0.7682\n",
            "Epoch 25/100\n",
            "352/352 [==============================] - 31s 89ms/step - loss: 0.7889 - accuracy: 0.7342 - val_loss: 0.8226 - val_accuracy: 0.7630\n",
            "Epoch 26/100\n",
            "352/352 [==============================] - 31s 89ms/step - loss: 0.7792 - accuracy: 0.7361 - val_loss: 0.7762 - val_accuracy: 0.7616\n",
            "Epoch 27/100\n",
            "352/352 [==============================] - 32s 90ms/step - loss: 0.7649 - accuracy: 0.7426 - val_loss: 0.7237 - val_accuracy: 0.7824\n",
            "Epoch 28/100\n",
            "352/352 [==============================] - 32s 89ms/step - loss: 0.7554 - accuracy: 0.7440 - val_loss: 0.8790 - val_accuracy: 0.7620\n",
            "Epoch 29/100\n",
            "352/352 [==============================] - 32s 90ms/step - loss: 0.7433 - accuracy: 0.7497 - val_loss: 0.7067 - val_accuracy: 0.7832\n",
            "Epoch 30/100\n",
            "352/352 [==============================] - 32s 89ms/step - loss: 0.7473 - accuracy: 0.7494 - val_loss: 0.5858 - val_accuracy: 0.8102\n",
            "Epoch 31/100\n",
            "352/352 [==============================] - 32s 90ms/step - loss: 0.7251 - accuracy: 0.7545 - val_loss: 0.7130 - val_accuracy: 0.7980\n",
            "Epoch 32/100\n",
            "352/352 [==============================] - 32s 90ms/step - loss: 0.7257 - accuracy: 0.7552 - val_loss: 1.0509 - val_accuracy: 0.7162\n",
            "Epoch 33/100\n",
            "352/352 [==============================] - 32s 90ms/step - loss: 0.7053 - accuracy: 0.7620 - val_loss: 0.8463 - val_accuracy: 0.7862\n",
            "Epoch 34/100\n",
            "352/352 [==============================] - 32s 90ms/step - loss: 0.7054 - accuracy: 0.7632 - val_loss: 0.7587 - val_accuracy: 0.7760\n",
            "Epoch 35/100\n",
            "352/352 [==============================] - 32s 90ms/step - loss: 0.6918 - accuracy: 0.7655 - val_loss: 0.6663 - val_accuracy: 0.8128\n",
            "Epoch 36/100\n",
            "352/352 [==============================] - 32s 90ms/step - loss: 0.6958 - accuracy: 0.7702 - val_loss: 0.7842 - val_accuracy: 0.7856\n",
            "Epoch 37/100\n",
            "352/352 [==============================] - 32s 92ms/step - loss: 0.7028 - accuracy: 0.7629 - val_loss: 0.6565 - val_accuracy: 0.7966\n",
            "Epoch 38/100\n",
            "352/352 [==============================] - 33s 94ms/step - loss: 0.6824 - accuracy: 0.7716 - val_loss: 1.0441 - val_accuracy: 0.7776\n",
            "Epoch 39/100\n",
            "352/352 [==============================] - 33s 92ms/step - loss: 0.6780 - accuracy: 0.7721 - val_loss: 0.6497 - val_accuracy: 0.8064\n",
            "Epoch 40/100\n",
            "352/352 [==============================] - 33s 92ms/step - loss: 0.6694 - accuracy: 0.7746 - val_loss: 1.3671 - val_accuracy: 0.7690\n",
            "Epoch 41/100\n",
            "352/352 [==============================] - 32s 92ms/step - loss: 0.6668 - accuracy: 0.7791 - val_loss: 0.5964 - val_accuracy: 0.8108\n",
            "Epoch 42/100\n",
            "352/352 [==============================] - 32s 92ms/step - loss: 0.6578 - accuracy: 0.7780 - val_loss: 0.9131 - val_accuracy: 0.7928\n",
            "Epoch 43/100\n",
            "352/352 [==============================] - 32s 91ms/step - loss: 0.6425 - accuracy: 0.7850 - val_loss: 0.6736 - val_accuracy: 0.8000\n",
            "Epoch 00043: early stopping\n"
          ],
          "name": "stdout"
        }
      ]
    },
    {
      "cell_type": "code",
      "metadata": {
        "id": "L8yslYTpki_u",
        "colab": {
          "base_uri": "https://localhost:8080/"
        },
        "outputId": "597fcb0b-a246-480b-9de3-6ff16acc55cc"
      },
      "source": [
        "# Result Print\n",
        "results = result_print(model_5)\n",
        "accTest.append(results[1])\n",
        "accTrain.append(results[0])"
      ],
      "execution_count": null,
      "outputs": [
        {
          "output_type": "stream",
          "text": [
            "1407/1407 [==============================] - 10s 7ms/step - loss: 0.5838 - accuracy: 0.8215\n",
            "Train loss: 0.5838494896888733 - Train accuracy: 0.8214889168739319\n",
            "\n",
            "157/157 [==============================] - 1s 7ms/step - loss: 0.6736 - accuracy: 0.8000\n",
            "Validation loss: 0.6735551953315735 - Validation accuracy: 0.800000011920929\n",
            "\n",
            "313/313 [==============================] - 2s 7ms/step - loss: 0.7203 - accuracy: 0.7900\n",
            "Test loss: 0.7203139066696167 - Test accuracy: 0.7900000214576721\n"
          ],
          "name": "stdout"
        }
      ]
    },
    {
      "cell_type": "code",
      "metadata": {
        "id": "kwPxnPJvox5K",
        "colab": {
          "base_uri": "https://localhost:8080/",
          "height": 295
        },
        "outputId": "2fd064c9-13ba-45f4-ea5b-1b85a5f8d5b6"
      },
      "source": [
        "# plot accuracy\n",
        "plt.plot(history_5.history['accuracy'], label='train')\n",
        "plt.plot(history_5.history['val_accuracy'], label='test')\n",
        "plt.title(\"Accuray Changes\")\n",
        "plt.xlabel(\"Epochs\")\n",
        "plt.ylabel(\"Acc\")\n",
        "plt.legend()\n",
        "plt.show()"
      ],
      "execution_count": null,
      "outputs": [
        {
          "output_type": "display_data",
          "data": {
            "image/png": "[encoded data removed]",
            "text/plain": [
              "<Figure size 432x288 with 1 Axes>"
            ]
          },
          "metadata": {
            "tags": [],
            "needs_background": "light"
          }
        }
      ]
    },
    {
      "cell_type": "markdown",
      "metadata": {
        "id": "SDnGJUNflh0q"
      },
      "source": [
        "\n",
        "\n",
        "\n",
        "\n",
        "# Extra Hidden Layer"
      ]
    },
    {
      "cell_type": "code",
      "metadata": {
        "id": "l8JKQQ0_ki7t",
        "colab": {
          "base_uri": "https://localhost:8080/"
        },
        "outputId": "7d3c22af-4366-4d02-c9fa-becb9a8e1545"
      },
      "source": [
        "batch_size= 128\n",
        "epochs=100\n",
        "num_classes =10\n",
        "model_6 = Sequential()\n",
        "model_6.add(Conv2D(filters = 32, kernel_size = (3,3),padding='Same',activation ='relu', input_shape = x_train.shape[1:]))\n",
        "model_6.add(BatchNormalization())\n",
        "model_6.add(Conv2D(filters = 64, kernel_size = (3,3),padding='Same',activation ='relu'))\n",
        "model_6.add(BatchNormalization())\n",
        "model_6.add(AveragePooling2D(pool_size=(2,2)))\n",
        "model_6.add(Conv2D(filters = 64, kernel_size = (3,3),padding='Same',activation ='relu'))\n",
        "model_6.add(BatchNormalization())\n",
        "model_6.add(AveragePooling2D(pool_size=(2,2)))\n",
        "model_6.add(Dropout(0.1))\n",
        "model_6.add(Conv2D(filters = 128, kernel_size = (3,3), activation ='relu',padding='Same'))\n",
        "model_6.add(BatchNormalization())\n",
        "model_6.add(Conv2D(filters = 256, kernel_size = (3,3), activation ='relu', padding='Same'))\n",
        "model_6.add(BatchNormalization())\n",
        "model_6.add(AveragePooling2D(pool_size=(2,2)))\n",
        "model_6.add(Dropout(0.2))\n",
        "model_6.add(Flatten())\n",
        "model_6.add(Dense(512,activation='relu'))\n",
        "model_6.add(Dropout(0.2))\n",
        "model_6.add(Dense(216,activation='relu'))\n",
        "model_6.add(Dense(num_classes,activation='softmax'))\n",
        "model_6.summary()\n"
      ],
      "execution_count": null,
      "outputs": [
        {
          "output_type": "stream",
          "text": [
            "Model: \"sequential_7\"\n",
            "_________________________________________________________________\n",
            "Layer (type)                 Output Shape              Param #   \n",
            "=================================================================\n",
            "conv2d_35 (Conv2D)           (None, 32, 32, 32)        896       \n",
            "_________________________________________________________________\n",
            "batch_normalization_15 (Batc (None, 32, 32, 32)        128       \n",
            "_________________________________________________________________\n",
            "conv2d_36 (Conv2D)           (None, 32, 32, 64)        18496     \n",
            "_________________________________________________________________\n",
            "batch_normalization_16 (Batc (None, 32, 32, 64)        256       \n",
            "_________________________________________________________________\n",
            "average_pooling2d_19 (Averag (None, 16, 16, 64)        0         \n",
            "_________________________________________________________________\n",
            "conv2d_37 (Conv2D)           (None, 16, 16, 64)        36928     \n",
            "_________________________________________________________________\n",
            "batch_normalization_17 (Batc (None, 16, 16, 64)        256       \n",
            "_________________________________________________________________\n",
            "average_pooling2d_20 (Averag (None, 8, 8, 64)          0         \n",
            "_________________________________________________________________\n",
            "dropout_6 (Dropout)          (None, 8, 8, 64)          0         \n",
            "_________________________________________________________________\n",
            "conv2d_38 (Conv2D)           (None, 8, 8, 128)         73856     \n",
            "_________________________________________________________________\n",
            "batch_normalization_18 (Batc (None, 8, 8, 128)         512       \n",
            "_________________________________________________________________\n",
            "conv2d_39 (Conv2D)           (None, 8, 8, 256)         295168    \n",
            "_________________________________________________________________\n",
            "batch_normalization_19 (Batc (None, 8, 8, 256)         1024      \n",
            "_________________________________________________________________\n",
            "average_pooling2d_21 (Averag (None, 4, 4, 256)         0         \n",
            "_________________________________________________________________\n",
            "dropout_7 (Dropout)          (None, 4, 4, 256)         0         \n",
            "_________________________________________________________________\n",
            "flatten_7 (Flatten)          (None, 4096)              0         \n",
            "_________________________________________________________________\n",
            "dense_14 (Dense)             (None, 512)               2097664   \n",
            "_________________________________________________________________\n",
            "dropout_8 (Dropout)          (None, 512)               0         \n",
            "_________________________________________________________________\n",
            "dense_15 (Dense)             (None, 216)               110808    \n",
            "_________________________________________________________________\n",
            "dense_16 (Dense)             (None, 10)                2170      \n",
            "=================================================================\n",
            "Total params: 2,638,162\n",
            "Trainable params: 2,637,074\n",
            "Non-trainable params: 1,088\n",
            "_________________________________________________________________\n"
          ],
          "name": "stdout"
        }
      ]
    },
    {
      "cell_type": "code",
      "metadata": {
        "id": "yxszByheqhZo"
      },
      "source": [
        "model_6.compile(loss = keras.losses.categorical_crossentropy,\n",
        "              optimizer = Adam(),\n",
        "              metrics=[\"accuracy\"])"
      ],
      "execution_count": null,
      "outputs": []
    },
    {
      "cell_type": "code",
      "metadata": {
        "id": "CGOX_BAPmS7H",
        "colab": {
          "base_uri": "https://localhost:8080/"
        },
        "outputId": "ec2569bb-45b7-41e9-b8fc-1175216e5054"
      },
      "source": [
        "history_6=model_6.fit_generator(datagen.flow(x_train,y_train, batch_size=batch_size),steps_per_epoch = int(np.ceil(x_train.shape[0]/float(batch_size))),\n",
        "                            epochs=epochs,validation_data=(x_val,y_val),callbacks=[callback])"
      ],
      "execution_count": null,
      "outputs": [
        {
          "output_type": "stream",
          "text": [
            "Epoch 1/100\n",
            "352/352 [==============================] - 25s 69ms/step - loss: 1.8481 - accuracy: 0.3368 - val_loss: 2.5608 - val_accuracy: 0.2246\n",
            "Epoch 2/100\n",
            "352/352 [==============================] - 24s 69ms/step - loss: 1.3744 - accuracy: 0.5044 - val_loss: 1.2363 - val_accuracy: 0.5614\n",
            "Epoch 3/100\n",
            "352/352 [==============================] - 25s 71ms/step - loss: 1.1963 - accuracy: 0.5732 - val_loss: 1.1387 - val_accuracy: 0.6138\n",
            "Epoch 4/100\n",
            "352/352 [==============================] - 25s 70ms/step - loss: 1.0624 - accuracy: 0.6216 - val_loss: 0.9739 - val_accuracy: 0.6668\n",
            "Epoch 5/100\n",
            "352/352 [==============================] - 24s 68ms/step - loss: 0.9685 - accuracy: 0.6589 - val_loss: 0.8717 - val_accuracy: 0.7036\n",
            "Epoch 6/100\n",
            "352/352 [==============================] - 24s 68ms/step - loss: 0.8943 - accuracy: 0.6893 - val_loss: 0.9033 - val_accuracy: 0.6970\n",
            "Epoch 7/100\n",
            "352/352 [==============================] - 24s 68ms/step - loss: 0.8368 - accuracy: 0.7100 - val_loss: 0.9004 - val_accuracy: 0.7000\n",
            "Epoch 8/100\n",
            "352/352 [==============================] - 24s 69ms/step - loss: 0.7973 - accuracy: 0.7211 - val_loss: 0.7938 - val_accuracy: 0.7298\n",
            "Epoch 9/100\n",
            "352/352 [==============================] - 24s 69ms/step - loss: 0.7545 - accuracy: 0.7373 - val_loss: 1.0782 - val_accuracy: 0.6672\n",
            "Epoch 10/100\n",
            "352/352 [==============================] - 24s 68ms/step - loss: 0.7246 - accuracy: 0.7496 - val_loss: 0.6804 - val_accuracy: 0.7672\n",
            "Epoch 11/100\n",
            "352/352 [==============================] - 24s 69ms/step - loss: 0.6922 - accuracy: 0.7634 - val_loss: 0.7347 - val_accuracy: 0.7644\n",
            "Epoch 12/100\n",
            "352/352 [==============================] - 24s 68ms/step - loss: 0.6670 - accuracy: 0.7695 - val_loss: 0.7013 - val_accuracy: 0.7690\n",
            "Epoch 13/100\n",
            "352/352 [==============================] - 24s 68ms/step - loss: 0.6456 - accuracy: 0.7788 - val_loss: 0.5609 - val_accuracy: 0.8080\n",
            "Epoch 14/100\n",
            "352/352 [==============================] - 24s 69ms/step - loss: 0.6319 - accuracy: 0.7846 - val_loss: 0.5172 - val_accuracy: 0.8244\n",
            "Epoch 15/100\n",
            "352/352 [==============================] - 24s 68ms/step - loss: 0.6081 - accuracy: 0.7914 - val_loss: 0.6448 - val_accuracy: 0.7914\n",
            "Epoch 16/100\n",
            "352/352 [==============================] - 23s 66ms/step - loss: 0.5914 - accuracy: 0.7990 - val_loss: 0.5058 - val_accuracy: 0.8260\n",
            "Epoch 17/100\n",
            "352/352 [==============================] - 23s 66ms/step - loss: 0.5810 - accuracy: 0.7997 - val_loss: 0.5720 - val_accuracy: 0.8114\n",
            "Epoch 18/100\n",
            "352/352 [==============================] - 23s 66ms/step - loss: 0.5732 - accuracy: 0.8029 - val_loss: 0.4970 - val_accuracy: 0.8336\n",
            "Epoch 19/100\n",
            "352/352 [==============================] - 23s 67ms/step - loss: 0.5551 - accuracy: 0.8104 - val_loss: 0.5705 - val_accuracy: 0.8128\n",
            "Epoch 20/100\n",
            "352/352 [==============================] - 23s 66ms/step - loss: 0.5490 - accuracy: 0.8132 - val_loss: 0.5612 - val_accuracy: 0.8158\n",
            "Epoch 21/100\n",
            "352/352 [==============================] - 24s 67ms/step - loss: 0.5450 - accuracy: 0.8119 - val_loss: 0.4354 - val_accuracy: 0.8514\n",
            "Epoch 22/100\n",
            "352/352 [==============================] - 23s 66ms/step - loss: 0.5361 - accuracy: 0.8153 - val_loss: 0.4817 - val_accuracy: 0.8316\n",
            "Epoch 23/100\n",
            "352/352 [==============================] - 23s 66ms/step - loss: 0.5221 - accuracy: 0.8206 - val_loss: 0.5758 - val_accuracy: 0.8124\n",
            "Epoch 24/100\n",
            "352/352 [==============================] - 24s 67ms/step - loss: 0.5162 - accuracy: 0.8234 - val_loss: 0.5511 - val_accuracy: 0.8182\n",
            "Epoch 25/100\n",
            "352/352 [==============================] - 23s 67ms/step - loss: 0.5010 - accuracy: 0.8268 - val_loss: 0.4883 - val_accuracy: 0.8398\n",
            "Epoch 26/100\n",
            "352/352 [==============================] - 23s 66ms/step - loss: 0.4925 - accuracy: 0.8306 - val_loss: 0.4665 - val_accuracy: 0.8454\n",
            "Epoch 27/100\n",
            "352/352 [==============================] - 23s 66ms/step - loss: 0.4899 - accuracy: 0.8277 - val_loss: 0.6205 - val_accuracy: 0.8084\n",
            "Epoch 28/100\n",
            "352/352 [==============================] - 23s 67ms/step - loss: 0.4747 - accuracy: 0.8347 - val_loss: 0.5406 - val_accuracy: 0.8222\n",
            "Epoch 29/100\n",
            "352/352 [==============================] - 24s 67ms/step - loss: 0.4701 - accuracy: 0.8374 - val_loss: 0.4956 - val_accuracy: 0.8356\n",
            "Epoch 00029: early stopping\n"
          ],
          "name": "stdout"
        }
      ]
    },
    {
      "cell_type": "code",
      "metadata": {
        "id": "EwXR5r4bki2p",
        "colab": {
          "base_uri": "https://localhost:8080/"
        },
        "outputId": "06722e5a-9399-4c9f-cc49-49b02afbd4c0"
      },
      "source": [
        "# Result Print\n",
        "results = result_print(model_6)\n",
        "accTest.append(results[1])\n",
        "accTrain.append(results[0])"
      ],
      "execution_count": null,
      "outputs": [
        {
          "output_type": "stream",
          "text": [
            "1407/1407 [==============================] - 5s 4ms/step - loss: 0.3834 - accuracy: 0.8698\n",
            "Train loss: 0.3833768963813782 - Train accuracy: 0.8698444366455078\n",
            "\n",
            "157/157 [==============================] - 1s 4ms/step - loss: 0.4956 - accuracy: 0.8356\n",
            "Validation loss: 0.49557816982269287 - Validation accuracy: 0.8356000185012817\n",
            "\n",
            "313/313 [==============================] - 1s 4ms/step - loss: 0.5266 - accuracy: 0.8306\n",
            "Test loss: 0.5266453623771667 - Test accuracy: 0.8306000232696533\n"
          ],
          "name": "stdout"
        }
      ]
    },
    {
      "cell_type": "code",
      "metadata": {
        "id": "gwvu7x_YjYue",
        "colab": {
          "base_uri": "https://localhost:8080/",
          "height": 295
        },
        "outputId": "0a1312ca-1ab5-4f09-e682-fc225b189cc8"
      },
      "source": [
        "# plot accuracy\n",
        "plt.plot(history_6.history['accuracy'], label='train')\n",
        "plt.plot(history_6.history['val_accuracy'], label='test')\n",
        "plt.title(\"Accuray Changes\")\n",
        "plt.xlabel(\"Epochs\")\n",
        "plt.ylabel(\"Acc\")\n",
        "plt.legend()\n",
        "plt.show()"
      ],
      "execution_count": null,
      "outputs": [
        {
          "output_type": "display_data",
          "data": {
            "image/png": "[encoded data removed]",
            "text/plain": [
              "<Figure size 432x288 with 1 Axes>"
            ]
          },
          "metadata": {
            "tags": [],
            "needs_background": "light"
          }
        }
      ]
    },
    {
      "cell_type": "markdown",
      "metadata": {
        "id": "YOzTSz8Y0bn5"
      },
      "source": [
        "# Results"
      ]
    },
    {
      "cell_type": "code",
      "metadata": {
        "colab": {
          "base_uri": "https://localhost:8080/"
        },
        "id": "ax5JogqfWYKp",
        "outputId": "f27622f2-340a-4fe1-c5c4-8a09080b37b4"
      },
      "source": [
        "d={'Models':model_names,'Accuracy':accTest}\n",
        "d"
      ],
      "execution_count": null,
      "outputs": [
        {
          "output_type": "execute_result",
          "data": {
            "text/plain": [
              "{'Accuracy': [0.7817999720573425,\n",
              "  0.8201000094413757,\n",
              "  0.8270000219345093,\n",
              "  0.8416000008583069,\n",
              "  0.7900000214576721,\n",
              "  0.8306000232696533],\n",
              " 'Models': ['Without Augmentation/BatchNormalization/Dropout',\n",
              "  'Without Dropout/BatchNormalization',\n",
              "  'Without Dropout and with BatchNormalization',\n",
              "  'With Dropout-BatchNormalization',\n",
              "  'Less Pooling Layer',\n",
              "  'Extra Hidden Layer']}"
            ]
          },
          "metadata": {
            "tags": []
          },
          "execution_count": 63
        }
      ]
    },
    {
      "cell_type": "code",
      "metadata": {
        "colab": {
          "base_uri": "https://localhost:8080/",
          "height": 405
        },
        "id": "OdV7I2B60fNn",
        "outputId": "d49fcaab-f138-4138-8790-de44552c75ec"
      },
      "source": [
        "acc_frame = pd.DataFrame(d)\n",
        "plt.figure(figsize=(12, 6))\n",
        "sns.barplot(y = 'Models', x = 'Accuracy', data = acc_frame)"
      ],
      "execution_count": null,
      "outputs": [
        {
          "output_type": "execute_result",
          "data": {
            "text/plain": [
              "<matplotlib.axes._subplots.AxesSubplot at 0x7fe150855a50>"
            ]
          },
          "metadata": {
            "tags": []
          },
          "execution_count": 64
        },
        {
          "output_type": "display_data",
          "data": {
            "image/png": "[encoded data removed]",
            "text/plain": [
              "<Figure size 864x432 with 1 Axes>"
            ]
          },
          "metadata": {
            "tags": [],
            "needs_background": "light"
          }
        }
      ]
    },
    {
      "cell_type": "code",
      "metadata": {
        "colab": {
          "base_uri": "https://localhost:8080/",
          "height": 328
        },
        "id": "AIcmFnlAYsRa",
        "outputId": "50e6c878-017c-4bae-e8fb-c9a88f995dca"
      },
      "source": [
        "sns.factorplot(x='Models',y='Accuracy',data=acc_frame,kind='point',size=4,aspect=5.0)"
      ],
      "execution_count": null,
      "outputs": [
        {
          "output_type": "execute_result",
          "data": {
            "text/plain": [
              "<seaborn.axisgrid.FacetGrid at 0x7fe14f0ffc10>"
            ]
          },
          "metadata": {
            "tags": []
          },
          "execution_count": 65
        },
        {
          "output_type": "display_data",
          "data": {
            "image/png": "[encoded data removed]",
            "text/plain": [
              "<Figure size 1440x288 with 1 Axes>"
            ]
          },
          "metadata": {
            "tags": [],
            "needs_background": "light"
          }
        }
      ]
    },
    {
      "cell_type": "code",
      "metadata": {
        "colab": {
          "base_uri": "https://localhost:8080/",
          "height": 235
        },
        "id": "_F1aJymOTqx3",
        "outputId": "55c4fc99-c21c-4d46-a8c6-4e266f212086"
      },
      "source": [
        "resultsDF = pd.DataFrame({\"Train Acc\":accTrain, \"Test Acc\":accTest})\n",
        "resultsDF.index=model_names\n",
        "resultsDF"
      ],
      "execution_count": null,
      "outputs": [
        {
          "output_type": "execute_result",
          "data": {
            "text/html": [
              "<div>\n",
              "<style scoped>\n",
              "    .dataframe tbody tr th:only-of-type {\n",
              "        vertical-align: middle;\n",
              "    }\n",
              "\n",
              "    .dataframe tbody tr th {\n",
              "        vertical-align: top;\n",
              "    }\n",
              "\n",
              "    .dataframe thead th {\n",
              "        text-align: right;\n",
              "    }\n",
              "</style>\n",
              "<table border=\"1\" class=\"dataframe\">\n",
              "  <thead>\n",
              "    <tr style=\"text-align: right;\">\n",
              "      <th></th>\n",
              "      <th>Train Acc</th>\n",
              "      <th>Test Acc</th>\n",
              "    </tr>\n",
              "  </thead>\n",
              "  <tbody>\n",
              "    <tr>\n",
              "      <th>Without Augmentation/BatchNormalization/Dropout</th>\n",
              "      <td>0.984800</td>\n",
              "      <td>0.7818</td>\n",
              "    </tr>\n",
              "    <tr>\n",
              "      <th>Without Dropout/BatchNormalization</th>\n",
              "      <td>0.883222</td>\n",
              "      <td>0.8201</td>\n",
              "    </tr>\n",
              "    <tr>\n",
              "      <th>Without Dropout and with BatchNormalization</th>\n",
              "      <td>0.892822</td>\n",
              "      <td>0.8270</td>\n",
              "    </tr>\n",
              "    <tr>\n",
              "      <th>With Dropout-BatchNormalization</th>\n",
              "      <td>0.885400</td>\n",
              "      <td>0.8416</td>\n",
              "    </tr>\n",
              "    <tr>\n",
              "      <th>Less Pooling Layer</th>\n",
              "      <td>0.821489</td>\n",
              "      <td>0.7900</td>\n",
              "    </tr>\n",
              "    <tr>\n",
              "      <th>Extra Hidden Layer</th>\n",
              "      <td>0.869844</td>\n",
              "      <td>0.8306</td>\n",
              "    </tr>\n",
              "  </tbody>\n",
              "</table>\n",
              "</div>"
            ],
            "text/plain": [
              "                                                 Train Acc  Test Acc\n",
              "Without Augmentation/BatchNormalization/Dropout   0.984800    0.7818\n",
              "Without Dropout/BatchNormalization                0.883222    0.8201\n",
              "Without Dropout and with BatchNormalization       0.892822    0.8270\n",
              "With Dropout-BatchNormalization                   0.885400    0.8416\n",
              "Less Pooling Layer                                0.821489    0.7900\n",
              "Extra Hidden Layer                                0.869844    0.8306"
            ]
          },
          "metadata": {
            "tags": []
          },
          "execution_count": 67
        }
      ]
    },
    {
      "cell_type": "markdown",
      "metadata": {
        "id": "6qgKtYT8woxV"
      },
      "source": [
        "## Obervations"
      ]
    },
    {
      "cell_type": "markdown",
      "metadata": {
        "id": "fgO4rQkrwyO9"
      },
      "source": [
        "\n",
        "\n",
        "\n",
        "\n",
        "\n"
      ]
    },
    {
      "cell_type": "markdown",
      "metadata": {
        "id": "om7H8qUCwyIN"
      },
      "source": [
        ""
      ]
    }
  ]
}